{
  "cells": [
    {
      "cell_type": "markdown",
      "metadata": {
        "id": "view-in-github",
        "colab_type": "text"
      },
      "source": [
        "<a href=\"https://colab.research.google.com/github/Wasabibish/Simple-Neural-Net-/blob/main/Sklearn_for_ML.ipynb\" target=\"_parent\"><img src=\"https://colab.research.google.com/assets/colab-badge.svg\" alt=\"Open In Colab\"/></a>"
      ]
    },
    {
      "cell_type": "code",
      "execution_count": null,
      "metadata": {
        "id": "dF3eBcNgzV8B"
      },
      "outputs": [],
      "source": [
        "#Import necessary libraries\n",
        "import sklearn\n",
        "from sklearn.datasets import load_breast_cancer\n",
        "import pandas as pd\n",
        "from sklearn.model_selection import train_test_split\n",
        "from sklearn.tree import DecisionTreeClassifier\n",
        "from sklearn.preprocessing import StandardScaler\n"
      ]
    },
    {
      "cell_type": "markdown",
      "metadata": {
        "id": "2EA7F_WLzV8D"
      },
      "source": [
        "# Import and split"
      ]
    },
    {
      "cell_type": "markdown",
      "metadata": {
        "id": "8drQE-28zV8F"
      },
      "source": [
        "## Import datasets from Sklearn\n",
        "\n",
        "The sklearn.datasets module includes utilities to load datasets, including methods to load and fetch popular reference datasets. It also features some artificial data generators.\n",
        "\n",
        "Additional link : https://python-course.eu/machine-learning/available-data-sets-in-sklearn.php"
      ]
    },
    {
      "cell_type": "code",
      "execution_count": null,
      "metadata": {
        "id": "5-jE5Ih9zV8F"
      },
      "outputs": [],
      "source": [
        "#Loading a dataset from sklearn (we choose the famous breast cancer dataset)\n",
        "data = load_breast_cancer()"
      ]
    },
    {
      "cell_type": "code",
      "execution_count": null,
      "metadata": {
        "id": "emKbmyzlzV8G",
        "outputId": "02cb8f2b-13b7-46d9-d24f-31db6a1de675"
      },
      "outputs": [
        {
          "data": {
            "text/plain": [
              "{'data': array([[1.799e+01, 1.038e+01, 1.228e+02, ..., 2.654e-01, 4.601e-01,\n",
              "         1.189e-01],\n",
              "        [2.057e+01, 1.777e+01, 1.329e+02, ..., 1.860e-01, 2.750e-01,\n",
              "         8.902e-02],\n",
              "        [1.969e+01, 2.125e+01, 1.300e+02, ..., 2.430e-01, 3.613e-01,\n",
              "         8.758e-02],\n",
              "        ...,\n",
              "        [1.660e+01, 2.808e+01, 1.083e+02, ..., 1.418e-01, 2.218e-01,\n",
              "         7.820e-02],\n",
              "        [2.060e+01, 2.933e+01, 1.401e+02, ..., 2.650e-01, 4.087e-01,\n",
              "         1.240e-01],\n",
              "        [7.760e+00, 2.454e+01, 4.792e+01, ..., 0.000e+00, 2.871e-01,\n",
              "         7.039e-02]]),\n",
              " 'target': array([0, 0, 0, 0, 0, 0, 0, 0, 0, 0, 0, 0, 0, 0, 0, 0, 0, 0, 0, 1, 1, 1,\n",
              "        0, 0, 0, 0, 0, 0, 0, 0, 0, 0, 0, 0, 0, 0, 0, 1, 0, 0, 0, 0, 0, 0,\n",
              "        0, 0, 1, 0, 1, 1, 1, 1, 1, 0, 0, 1, 0, 0, 1, 1, 1, 1, 0, 1, 0, 0,\n",
              "        1, 1, 1, 1, 0, 1, 0, 0, 1, 0, 1, 0, 0, 1, 1, 1, 0, 0, 1, 0, 0, 0,\n",
              "        1, 1, 1, 0, 1, 1, 0, 0, 1, 1, 1, 0, 0, 1, 1, 1, 1, 0, 1, 1, 0, 1,\n",
              "        1, 1, 1, 1, 1, 1, 1, 0, 0, 0, 1, 0, 0, 1, 1, 1, 0, 0, 1, 0, 1, 0,\n",
              "        0, 1, 0, 0, 1, 1, 0, 1, 1, 0, 1, 1, 1, 1, 0, 1, 1, 1, 1, 1, 1, 1,\n",
              "        1, 1, 0, 1, 1, 1, 1, 0, 0, 1, 0, 1, 1, 0, 0, 1, 1, 0, 0, 1, 1, 1,\n",
              "        1, 0, 1, 1, 0, 0, 0, 1, 0, 1, 0, 1, 1, 1, 0, 1, 1, 0, 0, 1, 0, 0,\n",
              "        0, 0, 1, 0, 0, 0, 1, 0, 1, 0, 1, 1, 0, 1, 0, 0, 0, 0, 1, 1, 0, 0,\n",
              "        1, 1, 1, 0, 1, 1, 1, 1, 1, 0, 0, 1, 1, 0, 1, 1, 0, 0, 1, 0, 1, 1,\n",
              "        1, 1, 0, 1, 1, 1, 1, 1, 0, 1, 0, 0, 0, 0, 0, 0, 0, 0, 0, 0, 0, 0,\n",
              "        0, 0, 1, 1, 1, 1, 1, 1, 0, 1, 0, 1, 1, 0, 1, 1, 0, 1, 0, 0, 1, 1,\n",
              "        1, 1, 1, 1, 1, 1, 1, 1, 1, 1, 1, 0, 1, 1, 0, 1, 0, 1, 1, 1, 1, 1,\n",
              "        1, 1, 1, 1, 1, 1, 1, 1, 1, 0, 1, 1, 1, 0, 1, 0, 1, 1, 1, 1, 0, 0,\n",
              "        0, 1, 1, 1, 1, 0, 1, 0, 1, 0, 1, 1, 1, 0, 1, 1, 1, 1, 1, 1, 1, 0,\n",
              "        0, 0, 1, 1, 1, 1, 1, 1, 1, 1, 1, 1, 1, 0, 0, 1, 0, 0, 0, 1, 0, 0,\n",
              "        1, 1, 1, 1, 1, 0, 1, 1, 1, 1, 1, 0, 1, 1, 1, 0, 1, 1, 0, 0, 1, 1,\n",
              "        1, 1, 1, 1, 0, 1, 1, 1, 1, 1, 1, 1, 0, 1, 1, 1, 1, 1, 0, 1, 1, 0,\n",
              "        1, 1, 1, 1, 1, 1, 1, 1, 1, 1, 1, 1, 0, 1, 0, 0, 1, 0, 1, 1, 1, 1,\n",
              "        1, 0, 1, 1, 0, 1, 0, 1, 1, 0, 1, 0, 1, 1, 1, 1, 1, 1, 1, 1, 0, 0,\n",
              "        1, 1, 1, 1, 1, 1, 0, 1, 1, 1, 1, 1, 1, 1, 1, 1, 1, 0, 1, 1, 1, 1,\n",
              "        1, 1, 1, 0, 1, 0, 1, 1, 0, 1, 1, 1, 1, 1, 0, 0, 1, 0, 1, 0, 1, 1,\n",
              "        1, 1, 1, 0, 1, 1, 0, 1, 0, 1, 0, 0, 1, 1, 1, 0, 1, 1, 1, 1, 1, 1,\n",
              "        1, 1, 1, 1, 1, 0, 1, 0, 0, 1, 1, 1, 1, 1, 1, 1, 1, 1, 1, 1, 1, 1,\n",
              "        1, 1, 1, 1, 1, 1, 1, 1, 1, 1, 1, 1, 0, 0, 0, 0, 0, 0, 1]),\n",
              " 'frame': None,\n",
              " 'target_names': array(['malignant', 'benign'], dtype='<U9'),\n",
              " 'DESCR': '.. _breast_cancer_dataset:\\n\\nBreast cancer wisconsin (diagnostic) dataset\\n--------------------------------------------\\n\\n**Data Set Characteristics:**\\n\\n    :Number of Instances: 569\\n\\n    :Number of Attributes: 30 numeric, predictive attributes and the class\\n\\n    :Attribute Information:\\n        - radius (mean of distances from center to points on the perimeter)\\n        - texture (standard deviation of gray-scale values)\\n        - perimeter\\n        - area\\n        - smoothness (local variation in radius lengths)\\n        - compactness (perimeter^2 / area - 1.0)\\n        - concavity (severity of concave portions of the contour)\\n        - concave points (number of concave portions of the contour)\\n        - symmetry\\n        - fractal dimension (\"coastline approximation\" - 1)\\n\\n        The mean, standard error, and \"worst\" or largest (mean of the three\\n        worst/largest values) of these features were computed for each image,\\n        resulting in 30 features.  For instance, field 0 is Mean Radius, field\\n        10 is Radius SE, field 20 is Worst Radius.\\n\\n        - class:\\n                - WDBC-Malignant\\n                - WDBC-Benign\\n\\n    :Summary Statistics:\\n\\n    ===================================== ====== ======\\n                                           Min    Max\\n    ===================================== ====== ======\\n    radius (mean):                        6.981  28.11\\n    texture (mean):                       9.71   39.28\\n    perimeter (mean):                     43.79  188.5\\n    area (mean):                          143.5  2501.0\\n    smoothness (mean):                    0.053  0.163\\n    compactness (mean):                   0.019  0.345\\n    concavity (mean):                     0.0    0.427\\n    concave points (mean):                0.0    0.201\\n    symmetry (mean):                      0.106  0.304\\n    fractal dimension (mean):             0.05   0.097\\n    radius (standard error):              0.112  2.873\\n    texture (standard error):             0.36   4.885\\n    perimeter (standard error):           0.757  21.98\\n    area (standard error):                6.802  542.2\\n    smoothness (standard error):          0.002  0.031\\n    compactness (standard error):         0.002  0.135\\n    concavity (standard error):           0.0    0.396\\n    concave points (standard error):      0.0    0.053\\n    symmetry (standard error):            0.008  0.079\\n    fractal dimension (standard error):   0.001  0.03\\n    radius (worst):                       7.93   36.04\\n    texture (worst):                      12.02  49.54\\n    perimeter (worst):                    50.41  251.2\\n    area (worst):                         185.2  4254.0\\n    smoothness (worst):                   0.071  0.223\\n    compactness (worst):                  0.027  1.058\\n    concavity (worst):                    0.0    1.252\\n    concave points (worst):               0.0    0.291\\n    symmetry (worst):                     0.156  0.664\\n    fractal dimension (worst):            0.055  0.208\\n    ===================================== ====== ======\\n\\n    :Missing Attribute Values: None\\n\\n    :Class Distribution: 212 - Malignant, 357 - Benign\\n\\n    :Creator:  Dr. William H. Wolberg, W. Nick Street, Olvi L. Mangasarian\\n\\n    :Donor: Nick Street\\n\\n    :Date: November, 1995\\n\\nThis is a copy of UCI ML Breast Cancer Wisconsin (Diagnostic) datasets.\\nhttps://goo.gl/U2Uwz2\\n\\nFeatures are computed from a digitized image of a fine needle\\naspirate (FNA) of a breast mass.  They describe\\ncharacteristics of the cell nuclei present in the image.\\n\\nSeparating plane described above was obtained using\\nMultisurface Method-Tree (MSM-T) [K. P. Bennett, \"Decision Tree\\nConstruction Via Linear Programming.\" Proceedings of the 4th\\nMidwest Artificial Intelligence and Cognitive Science Society,\\npp. 97-101, 1992], a classification method which uses linear\\nprogramming to construct a decision tree.  Relevant features\\nwere selected using an exhaustive search in the space of 1-4\\nfeatures and 1-3 separating planes.\\n\\nThe actual linear program used to obtain the separating plane\\nin the 3-dimensional space is that described in:\\n[K. P. Bennett and O. L. Mangasarian: \"Robust Linear\\nProgramming Discrimination of Two Linearly Inseparable Sets\",\\nOptimization Methods and Software 1, 1992, 23-34].\\n\\nThis database is also available through the UW CS ftp server:\\n\\nftp ftp.cs.wisc.edu\\ncd math-prog/cpo-dataset/machine-learn/WDBC/\\n\\n.. topic:: References\\n\\n   - W.N. Street, W.H. Wolberg and O.L. Mangasarian. Nuclear feature extraction \\n     for breast tumor diagnosis. IS&T/SPIE 1993 International Symposium on \\n     Electronic Imaging: Science and Technology, volume 1905, pages 861-870,\\n     San Jose, CA, 1993.\\n   - O.L. Mangasarian, W.N. Street and W.H. Wolberg. Breast cancer diagnosis and \\n     prognosis via linear programming. Operations Research, 43(4), pages 570-577, \\n     July-August 1995.\\n   - W.H. Wolberg, W.N. Street, and O.L. Mangasarian. Machine learning techniques\\n     to diagnose breast cancer from fine-needle aspirates. Cancer Letters 77 (1994) \\n     163-171.',\n",
              " 'feature_names': array(['mean radius', 'mean texture', 'mean perimeter', 'mean area',\n",
              "        'mean smoothness', 'mean compactness', 'mean concavity',\n",
              "        'mean concave points', 'mean symmetry', 'mean fractal dimension',\n",
              "        'radius error', 'texture error', 'perimeter error', 'area error',\n",
              "        'smoothness error', 'compactness error', 'concavity error',\n",
              "        'concave points error', 'symmetry error',\n",
              "        'fractal dimension error', 'worst radius', 'worst texture',\n",
              "        'worst perimeter', 'worst area', 'worst smoothness',\n",
              "        'worst compactness', 'worst concavity', 'worst concave points',\n",
              "        'worst symmetry', 'worst fractal dimension'], dtype='<U23'),\n",
              " 'filename': 'breast_cancer.csv',\n",
              " 'data_module': 'sklearn.datasets.data'}"
            ]
          },
          "execution_count": 6,
          "metadata": {},
          "output_type": "execute_result"
        }
      ],
      "source": [
        "#Lets have a look at the data \n",
        "data"
      ]
    },
    {
      "cell_type": "code",
      "execution_count": null,
      "metadata": {
        "id": "lXqB6_dczV8I",
        "outputId": "b9ba7d80-ab43-4178-8eac-dbce7a175d1e"
      },
      "outputs": [
        {
          "data": {
            "text/plain": [
              "dict_keys(['data', 'target', 'frame', 'target_names', 'DESCR', 'feature_names', 'filename', 'data_module'])"
            ]
          },
          "execution_count": 7,
          "metadata": {},
          "output_type": "execute_result"
        }
      ],
      "source": [
        "#We notice that our dataset is in a  dictionnary form, lets check its keys\n",
        "data.keys()"
      ]
    },
    {
      "cell_type": "code",
      "execution_count": null,
      "metadata": {
        "id": "R3XIBjRVzV8I",
        "outputId": "3fc3ade3-438e-43c1-a902-ba892b5f7731"
      },
      "outputs": [
        {
          "data": {
            "text/html": [
              "<div>\n",
              "<style scoped>\n",
              "    .dataframe tbody tr th:only-of-type {\n",
              "        vertical-align: middle;\n",
              "    }\n",
              "\n",
              "    .dataframe tbody tr th {\n",
              "        vertical-align: top;\n",
              "    }\n",
              "\n",
              "    .dataframe thead th {\n",
              "        text-align: right;\n",
              "    }\n",
              "</style>\n",
              "<table border=\"1\" class=\"dataframe\">\n",
              "  <thead>\n",
              "    <tr style=\"text-align: right;\">\n",
              "      <th></th>\n",
              "      <th>0</th>\n",
              "      <th>1</th>\n",
              "      <th>2</th>\n",
              "      <th>3</th>\n",
              "      <th>4</th>\n",
              "      <th>5</th>\n",
              "      <th>6</th>\n",
              "      <th>7</th>\n",
              "      <th>8</th>\n",
              "      <th>9</th>\n",
              "      <th>...</th>\n",
              "      <th>20</th>\n",
              "      <th>21</th>\n",
              "      <th>22</th>\n",
              "      <th>23</th>\n",
              "      <th>24</th>\n",
              "      <th>25</th>\n",
              "      <th>26</th>\n",
              "      <th>27</th>\n",
              "      <th>28</th>\n",
              "      <th>29</th>\n",
              "    </tr>\n",
              "  </thead>\n",
              "  <tbody>\n",
              "    <tr>\n",
              "      <th>0</th>\n",
              "      <td>17.99</td>\n",
              "      <td>10.38</td>\n",
              "      <td>122.80</td>\n",
              "      <td>1001.0</td>\n",
              "      <td>0.11840</td>\n",
              "      <td>0.27760</td>\n",
              "      <td>0.30010</td>\n",
              "      <td>0.14710</td>\n",
              "      <td>0.2419</td>\n",
              "      <td>0.07871</td>\n",
              "      <td>...</td>\n",
              "      <td>25.380</td>\n",
              "      <td>17.33</td>\n",
              "      <td>184.60</td>\n",
              "      <td>2019.0</td>\n",
              "      <td>0.16220</td>\n",
              "      <td>0.66560</td>\n",
              "      <td>0.7119</td>\n",
              "      <td>0.2654</td>\n",
              "      <td>0.4601</td>\n",
              "      <td>0.11890</td>\n",
              "    </tr>\n",
              "    <tr>\n",
              "      <th>1</th>\n",
              "      <td>20.57</td>\n",
              "      <td>17.77</td>\n",
              "      <td>132.90</td>\n",
              "      <td>1326.0</td>\n",
              "      <td>0.08474</td>\n",
              "      <td>0.07864</td>\n",
              "      <td>0.08690</td>\n",
              "      <td>0.07017</td>\n",
              "      <td>0.1812</td>\n",
              "      <td>0.05667</td>\n",
              "      <td>...</td>\n",
              "      <td>24.990</td>\n",
              "      <td>23.41</td>\n",
              "      <td>158.80</td>\n",
              "      <td>1956.0</td>\n",
              "      <td>0.12380</td>\n",
              "      <td>0.18660</td>\n",
              "      <td>0.2416</td>\n",
              "      <td>0.1860</td>\n",
              "      <td>0.2750</td>\n",
              "      <td>0.08902</td>\n",
              "    </tr>\n",
              "    <tr>\n",
              "      <th>2</th>\n",
              "      <td>19.69</td>\n",
              "      <td>21.25</td>\n",
              "      <td>130.00</td>\n",
              "      <td>1203.0</td>\n",
              "      <td>0.10960</td>\n",
              "      <td>0.15990</td>\n",
              "      <td>0.19740</td>\n",
              "      <td>0.12790</td>\n",
              "      <td>0.2069</td>\n",
              "      <td>0.05999</td>\n",
              "      <td>...</td>\n",
              "      <td>23.570</td>\n",
              "      <td>25.53</td>\n",
              "      <td>152.50</td>\n",
              "      <td>1709.0</td>\n",
              "      <td>0.14440</td>\n",
              "      <td>0.42450</td>\n",
              "      <td>0.4504</td>\n",
              "      <td>0.2430</td>\n",
              "      <td>0.3613</td>\n",
              "      <td>0.08758</td>\n",
              "    </tr>\n",
              "    <tr>\n",
              "      <th>3</th>\n",
              "      <td>11.42</td>\n",
              "      <td>20.38</td>\n",
              "      <td>77.58</td>\n",
              "      <td>386.1</td>\n",
              "      <td>0.14250</td>\n",
              "      <td>0.28390</td>\n",
              "      <td>0.24140</td>\n",
              "      <td>0.10520</td>\n",
              "      <td>0.2597</td>\n",
              "      <td>0.09744</td>\n",
              "      <td>...</td>\n",
              "      <td>14.910</td>\n",
              "      <td>26.50</td>\n",
              "      <td>98.87</td>\n",
              "      <td>567.7</td>\n",
              "      <td>0.20980</td>\n",
              "      <td>0.86630</td>\n",
              "      <td>0.6869</td>\n",
              "      <td>0.2575</td>\n",
              "      <td>0.6638</td>\n",
              "      <td>0.17300</td>\n",
              "    </tr>\n",
              "    <tr>\n",
              "      <th>4</th>\n",
              "      <td>20.29</td>\n",
              "      <td>14.34</td>\n",
              "      <td>135.10</td>\n",
              "      <td>1297.0</td>\n",
              "      <td>0.10030</td>\n",
              "      <td>0.13280</td>\n",
              "      <td>0.19800</td>\n",
              "      <td>0.10430</td>\n",
              "      <td>0.1809</td>\n",
              "      <td>0.05883</td>\n",
              "      <td>...</td>\n",
              "      <td>22.540</td>\n",
              "      <td>16.67</td>\n",
              "      <td>152.20</td>\n",
              "      <td>1575.0</td>\n",
              "      <td>0.13740</td>\n",
              "      <td>0.20500</td>\n",
              "      <td>0.4000</td>\n",
              "      <td>0.1625</td>\n",
              "      <td>0.2364</td>\n",
              "      <td>0.07678</td>\n",
              "    </tr>\n",
              "    <tr>\n",
              "      <th>...</th>\n",
              "      <td>...</td>\n",
              "      <td>...</td>\n",
              "      <td>...</td>\n",
              "      <td>...</td>\n",
              "      <td>...</td>\n",
              "      <td>...</td>\n",
              "      <td>...</td>\n",
              "      <td>...</td>\n",
              "      <td>...</td>\n",
              "      <td>...</td>\n",
              "      <td>...</td>\n",
              "      <td>...</td>\n",
              "      <td>...</td>\n",
              "      <td>...</td>\n",
              "      <td>...</td>\n",
              "      <td>...</td>\n",
              "      <td>...</td>\n",
              "      <td>...</td>\n",
              "      <td>...</td>\n",
              "      <td>...</td>\n",
              "      <td>...</td>\n",
              "    </tr>\n",
              "    <tr>\n",
              "      <th>564</th>\n",
              "      <td>21.56</td>\n",
              "      <td>22.39</td>\n",
              "      <td>142.00</td>\n",
              "      <td>1479.0</td>\n",
              "      <td>0.11100</td>\n",
              "      <td>0.11590</td>\n",
              "      <td>0.24390</td>\n",
              "      <td>0.13890</td>\n",
              "      <td>0.1726</td>\n",
              "      <td>0.05623</td>\n",
              "      <td>...</td>\n",
              "      <td>25.450</td>\n",
              "      <td>26.40</td>\n",
              "      <td>166.10</td>\n",
              "      <td>2027.0</td>\n",
              "      <td>0.14100</td>\n",
              "      <td>0.21130</td>\n",
              "      <td>0.4107</td>\n",
              "      <td>0.2216</td>\n",
              "      <td>0.2060</td>\n",
              "      <td>0.07115</td>\n",
              "    </tr>\n",
              "    <tr>\n",
              "      <th>565</th>\n",
              "      <td>20.13</td>\n",
              "      <td>28.25</td>\n",
              "      <td>131.20</td>\n",
              "      <td>1261.0</td>\n",
              "      <td>0.09780</td>\n",
              "      <td>0.10340</td>\n",
              "      <td>0.14400</td>\n",
              "      <td>0.09791</td>\n",
              "      <td>0.1752</td>\n",
              "      <td>0.05533</td>\n",
              "      <td>...</td>\n",
              "      <td>23.690</td>\n",
              "      <td>38.25</td>\n",
              "      <td>155.00</td>\n",
              "      <td>1731.0</td>\n",
              "      <td>0.11660</td>\n",
              "      <td>0.19220</td>\n",
              "      <td>0.3215</td>\n",
              "      <td>0.1628</td>\n",
              "      <td>0.2572</td>\n",
              "      <td>0.06637</td>\n",
              "    </tr>\n",
              "    <tr>\n",
              "      <th>566</th>\n",
              "      <td>16.60</td>\n",
              "      <td>28.08</td>\n",
              "      <td>108.30</td>\n",
              "      <td>858.1</td>\n",
              "      <td>0.08455</td>\n",
              "      <td>0.10230</td>\n",
              "      <td>0.09251</td>\n",
              "      <td>0.05302</td>\n",
              "      <td>0.1590</td>\n",
              "      <td>0.05648</td>\n",
              "      <td>...</td>\n",
              "      <td>18.980</td>\n",
              "      <td>34.12</td>\n",
              "      <td>126.70</td>\n",
              "      <td>1124.0</td>\n",
              "      <td>0.11390</td>\n",
              "      <td>0.30940</td>\n",
              "      <td>0.3403</td>\n",
              "      <td>0.1418</td>\n",
              "      <td>0.2218</td>\n",
              "      <td>0.07820</td>\n",
              "    </tr>\n",
              "    <tr>\n",
              "      <th>567</th>\n",
              "      <td>20.60</td>\n",
              "      <td>29.33</td>\n",
              "      <td>140.10</td>\n",
              "      <td>1265.0</td>\n",
              "      <td>0.11780</td>\n",
              "      <td>0.27700</td>\n",
              "      <td>0.35140</td>\n",
              "      <td>0.15200</td>\n",
              "      <td>0.2397</td>\n",
              "      <td>0.07016</td>\n",
              "      <td>...</td>\n",
              "      <td>25.740</td>\n",
              "      <td>39.42</td>\n",
              "      <td>184.60</td>\n",
              "      <td>1821.0</td>\n",
              "      <td>0.16500</td>\n",
              "      <td>0.86810</td>\n",
              "      <td>0.9387</td>\n",
              "      <td>0.2650</td>\n",
              "      <td>0.4087</td>\n",
              "      <td>0.12400</td>\n",
              "    </tr>\n",
              "    <tr>\n",
              "      <th>568</th>\n",
              "      <td>7.76</td>\n",
              "      <td>24.54</td>\n",
              "      <td>47.92</td>\n",
              "      <td>181.0</td>\n",
              "      <td>0.05263</td>\n",
              "      <td>0.04362</td>\n",
              "      <td>0.00000</td>\n",
              "      <td>0.00000</td>\n",
              "      <td>0.1587</td>\n",
              "      <td>0.05884</td>\n",
              "      <td>...</td>\n",
              "      <td>9.456</td>\n",
              "      <td>30.37</td>\n",
              "      <td>59.16</td>\n",
              "      <td>268.6</td>\n",
              "      <td>0.08996</td>\n",
              "      <td>0.06444</td>\n",
              "      <td>0.0000</td>\n",
              "      <td>0.0000</td>\n",
              "      <td>0.2871</td>\n",
              "      <td>0.07039</td>\n",
              "    </tr>\n",
              "  </tbody>\n",
              "</table>\n",
              "<p>569 rows × 30 columns</p>\n",
              "</div>"
            ],
            "text/plain": [
              "        0      1       2       3        4        5        6        7       8   \\\n",
              "0    17.99  10.38  122.80  1001.0  0.11840  0.27760  0.30010  0.14710  0.2419   \n",
              "1    20.57  17.77  132.90  1326.0  0.08474  0.07864  0.08690  0.07017  0.1812   \n",
              "2    19.69  21.25  130.00  1203.0  0.10960  0.15990  0.19740  0.12790  0.2069   \n",
              "3    11.42  20.38   77.58   386.1  0.14250  0.28390  0.24140  0.10520  0.2597   \n",
              "4    20.29  14.34  135.10  1297.0  0.10030  0.13280  0.19800  0.10430  0.1809   \n",
              "..     ...    ...     ...     ...      ...      ...      ...      ...     ...   \n",
              "564  21.56  22.39  142.00  1479.0  0.11100  0.11590  0.24390  0.13890  0.1726   \n",
              "565  20.13  28.25  131.20  1261.0  0.09780  0.10340  0.14400  0.09791  0.1752   \n",
              "566  16.60  28.08  108.30   858.1  0.08455  0.10230  0.09251  0.05302  0.1590   \n",
              "567  20.60  29.33  140.10  1265.0  0.11780  0.27700  0.35140  0.15200  0.2397   \n",
              "568   7.76  24.54   47.92   181.0  0.05263  0.04362  0.00000  0.00000  0.1587   \n",
              "\n",
              "          9   ...      20     21      22      23       24       25      26  \\\n",
              "0    0.07871  ...  25.380  17.33  184.60  2019.0  0.16220  0.66560  0.7119   \n",
              "1    0.05667  ...  24.990  23.41  158.80  1956.0  0.12380  0.18660  0.2416   \n",
              "2    0.05999  ...  23.570  25.53  152.50  1709.0  0.14440  0.42450  0.4504   \n",
              "3    0.09744  ...  14.910  26.50   98.87   567.7  0.20980  0.86630  0.6869   \n",
              "4    0.05883  ...  22.540  16.67  152.20  1575.0  0.13740  0.20500  0.4000   \n",
              "..       ...  ...     ...    ...     ...     ...      ...      ...     ...   \n",
              "564  0.05623  ...  25.450  26.40  166.10  2027.0  0.14100  0.21130  0.4107   \n",
              "565  0.05533  ...  23.690  38.25  155.00  1731.0  0.11660  0.19220  0.3215   \n",
              "566  0.05648  ...  18.980  34.12  126.70  1124.0  0.11390  0.30940  0.3403   \n",
              "567  0.07016  ...  25.740  39.42  184.60  1821.0  0.16500  0.86810  0.9387   \n",
              "568  0.05884  ...   9.456  30.37   59.16   268.6  0.08996  0.06444  0.0000   \n",
              "\n",
              "         27      28       29  \n",
              "0    0.2654  0.4601  0.11890  \n",
              "1    0.1860  0.2750  0.08902  \n",
              "2    0.2430  0.3613  0.08758  \n",
              "3    0.2575  0.6638  0.17300  \n",
              "4    0.1625  0.2364  0.07678  \n",
              "..      ...     ...      ...  \n",
              "564  0.2216  0.2060  0.07115  \n",
              "565  0.1628  0.2572  0.06637  \n",
              "566  0.1418  0.2218  0.07820  \n",
              "567  0.2650  0.4087  0.12400  \n",
              "568  0.0000  0.2871  0.07039  \n",
              "\n",
              "[569 rows x 30 columns]"
            ]
          },
          "execution_count": 8,
          "metadata": {},
          "output_type": "execute_result"
        }
      ],
      "source": [
        "#For better vizualisation, we choose to create a dataframe using Pandas \n",
        "pd.DataFrame(data['data'])"
      ]
    },
    {
      "cell_type": "markdown",
      "metadata": {
        "id": "h_H_hVlyzV8J"
      },
      "source": [
        "We notice that we have 30 columns (independant variables)"
      ]
    },
    {
      "cell_type": "code",
      "execution_count": null,
      "metadata": {
        "id": "jYsgIX_uzV8J",
        "outputId": "65d9438f-aec9-4c0d-97e0-d0f1de6d40f4"
      },
      "outputs": [
        {
          "data": {
            "text/html": [
              "<div>\n",
              "<style scoped>\n",
              "    .dataframe tbody tr th:only-of-type {\n",
              "        vertical-align: middle;\n",
              "    }\n",
              "\n",
              "    .dataframe tbody tr th {\n",
              "        vertical-align: top;\n",
              "    }\n",
              "\n",
              "    .dataframe thead th {\n",
              "        text-align: right;\n",
              "    }\n",
              "</style>\n",
              "<table border=\"1\" class=\"dataframe\">\n",
              "  <thead>\n",
              "    <tr style=\"text-align: right;\">\n",
              "      <th></th>\n",
              "      <th>0</th>\n",
              "    </tr>\n",
              "  </thead>\n",
              "  <tbody>\n",
              "    <tr>\n",
              "      <th>0</th>\n",
              "      <td>0</td>\n",
              "    </tr>\n",
              "    <tr>\n",
              "      <th>1</th>\n",
              "      <td>0</td>\n",
              "    </tr>\n",
              "    <tr>\n",
              "      <th>2</th>\n",
              "      <td>0</td>\n",
              "    </tr>\n",
              "    <tr>\n",
              "      <th>3</th>\n",
              "      <td>0</td>\n",
              "    </tr>\n",
              "    <tr>\n",
              "      <th>4</th>\n",
              "      <td>0</td>\n",
              "    </tr>\n",
              "    <tr>\n",
              "      <th>...</th>\n",
              "      <td>...</td>\n",
              "    </tr>\n",
              "    <tr>\n",
              "      <th>564</th>\n",
              "      <td>0</td>\n",
              "    </tr>\n",
              "    <tr>\n",
              "      <th>565</th>\n",
              "      <td>0</td>\n",
              "    </tr>\n",
              "    <tr>\n",
              "      <th>566</th>\n",
              "      <td>0</td>\n",
              "    </tr>\n",
              "    <tr>\n",
              "      <th>567</th>\n",
              "      <td>0</td>\n",
              "    </tr>\n",
              "    <tr>\n",
              "      <th>568</th>\n",
              "      <td>1</td>\n",
              "    </tr>\n",
              "  </tbody>\n",
              "</table>\n",
              "<p>569 rows × 1 columns</p>\n",
              "</div>"
            ],
            "text/plain": [
              "     0\n",
              "0    0\n",
              "1    0\n",
              "2    0\n",
              "3    0\n",
              "4    0\n",
              "..  ..\n",
              "564  0\n",
              "565  0\n",
              "566  0\n",
              "567  0\n",
              "568  1\n",
              "\n",
              "[569 rows x 1 columns]"
            ]
          },
          "execution_count": 9,
          "metadata": {},
          "output_type": "execute_result"
        }
      ],
      "source": [
        "#Same thing for the target\n",
        "pd.DataFrame(data['target'])"
      ]
    },
    {
      "cell_type": "code",
      "execution_count": null,
      "metadata": {
        "id": "6xXy0EMZzV8K",
        "outputId": "61a87b91-c984-4d16-f71f-e2767e792260"
      },
      "outputs": [
        {
          "data": {
            "text/plain": [
              "{0, 1}"
            ]
          },
          "execution_count": 10,
          "metadata": {},
          "output_type": "execute_result"
        }
      ],
      "source": [
        "set(data['target'])"
      ]
    },
    {
      "cell_type": "markdown",
      "metadata": {
        "id": "t1kdHdZjzV8K"
      },
      "source": [
        "We notice that we have one target (Yes/No), and its unique values are 0/1"
      ]
    },
    {
      "cell_type": "code",
      "execution_count": null,
      "metadata": {
        "id": "tQCyXcPlzV8L",
        "outputId": "436e6d5c-b16e-4d34-d2e5-0f863dfd5f34"
      },
      "outputs": [
        {
          "data": {
            "text/plain": [
              "'.. _breast_cancer_dataset:\\n\\nBreast cancer wisconsin (diagnostic) dataset\\n--------------------------------------------\\n\\n**Data Set Characteristics:**\\n\\n    :Number of Instances: 569\\n\\n    :Number of Attributes: 30 numeric, predictive attributes and the class\\n\\n    :Attribute Information:\\n        - radius (mean of distances from center to points on the perimeter)\\n        - texture (standard deviation of gray-scale values)\\n        - perimeter\\n        - area\\n        - smoothness (local variation in radius lengths)\\n        - compactness (perimeter^2 / area - 1.0)\\n        - concavity (severity of concave portions of the contour)\\n        - concave points (number of concave portions of the contour)\\n        - symmetry\\n        - fractal dimension (\"coastline approximation\" - 1)\\n\\n        The mean, standard error, and \"worst\" or largest (mean of the three\\n        worst/largest values) of these features were computed for each image,\\n        resulting in 30 features.  For instance, field 0 is Mean Radius, field\\n        10 is Radius SE, field 20 is Worst Radius.\\n\\n        - class:\\n                - WDBC-Malignant\\n                - WDBC-Benign\\n\\n    :Summary Statistics:\\n\\n    ===================================== ====== ======\\n                                           Min    Max\\n    ===================================== ====== ======\\n    radius (mean):                        6.981  28.11\\n    texture (mean):                       9.71   39.28\\n    perimeter (mean):                     43.79  188.5\\n    area (mean):                          143.5  2501.0\\n    smoothness (mean):                    0.053  0.163\\n    compactness (mean):                   0.019  0.345\\n    concavity (mean):                     0.0    0.427\\n    concave points (mean):                0.0    0.201\\n    symmetry (mean):                      0.106  0.304\\n    fractal dimension (mean):             0.05   0.097\\n    radius (standard error):              0.112  2.873\\n    texture (standard error):             0.36   4.885\\n    perimeter (standard error):           0.757  21.98\\n    area (standard error):                6.802  542.2\\n    smoothness (standard error):          0.002  0.031\\n    compactness (standard error):         0.002  0.135\\n    concavity (standard error):           0.0    0.396\\n    concave points (standard error):      0.0    0.053\\n    symmetry (standard error):            0.008  0.079\\n    fractal dimension (standard error):   0.001  0.03\\n    radius (worst):                       7.93   36.04\\n    texture (worst):                      12.02  49.54\\n    perimeter (worst):                    50.41  251.2\\n    area (worst):                         185.2  4254.0\\n    smoothness (worst):                   0.071  0.223\\n    compactness (worst):                  0.027  1.058\\n    concavity (worst):                    0.0    1.252\\n    concave points (worst):               0.0    0.291\\n    symmetry (worst):                     0.156  0.664\\n    fractal dimension (worst):            0.055  0.208\\n    ===================================== ====== ======\\n\\n    :Missing Attribute Values: None\\n\\n    :Class Distribution: 212 - Malignant, 357 - Benign\\n\\n    :Creator:  Dr. William H. Wolberg, W. Nick Street, Olvi L. Mangasarian\\n\\n    :Donor: Nick Street\\n\\n    :Date: November, 1995\\n\\nThis is a copy of UCI ML Breast Cancer Wisconsin (Diagnostic) datasets.\\nhttps://goo.gl/U2Uwz2\\n\\nFeatures are computed from a digitized image of a fine needle\\naspirate (FNA) of a breast mass.  They describe\\ncharacteristics of the cell nuclei present in the image.\\n\\nSeparating plane described above was obtained using\\nMultisurface Method-Tree (MSM-T) [K. P. Bennett, \"Decision Tree\\nConstruction Via Linear Programming.\" Proceedings of the 4th\\nMidwest Artificial Intelligence and Cognitive Science Society,\\npp. 97-101, 1992], a classification method which uses linear\\nprogramming to construct a decision tree.  Relevant features\\nwere selected using an exhaustive search in the space of 1-4\\nfeatures and 1-3 separating planes.\\n\\nThe actual linear program used to obtain the separating plane\\nin the 3-dimensional space is that described in:\\n[K. P. Bennett and O. L. Mangasarian: \"Robust Linear\\nProgramming Discrimination of Two Linearly Inseparable Sets\",\\nOptimization Methods and Software 1, 1992, 23-34].\\n\\nThis database is also available through the UW CS ftp server:\\n\\nftp ftp.cs.wisc.edu\\ncd math-prog/cpo-dataset/machine-learn/WDBC/\\n\\n.. topic:: References\\n\\n   - W.N. Street, W.H. Wolberg and O.L. Mangasarian. Nuclear feature extraction \\n     for breast tumor diagnosis. IS&T/SPIE 1993 International Symposium on \\n     Electronic Imaging: Science and Technology, volume 1905, pages 861-870,\\n     San Jose, CA, 1993.\\n   - O.L. Mangasarian, W.N. Street and W.H. Wolberg. Breast cancer diagnosis and \\n     prognosis via linear programming. Operations Research, 43(4), pages 570-577, \\n     July-August 1995.\\n   - W.H. Wolberg, W.N. Street, and O.L. Mangasarian. Machine learning techniques\\n     to diagnose breast cancer from fine-needle aspirates. Cancer Letters 77 (1994) \\n     163-171.'"
            ]
          },
          "execution_count": 11,
          "metadata": {},
          "output_type": "execute_result"
        }
      ],
      "source": [
        "#To provide more details about the data\n",
        "data.DESCR"
      ]
    },
    {
      "cell_type": "markdown",
      "metadata": {
        "id": "l1kpEGhizV8L"
      },
      "source": [
        "## Train Test Split"
      ]
    },
    {
      "cell_type": "code",
      "execution_count": null,
      "metadata": {
        "id": "7MoPuw3izV8L",
        "outputId": "1a77fc0b-e83f-402e-a813-5b416631eb94"
      },
      "outputs": [
        {
          "name": "stdout",
          "output_type": "stream",
          "text": [
            "Help on function train_test_split in module sklearn.model_selection._split:\n",
            "\n",
            "train_test_split(*arrays, test_size=None, train_size=None, random_state=None, shuffle=True, stratify=None)\n",
            "    Split arrays or matrices into random train and test subsets.\n",
            "    \n",
            "    Quick utility that wraps input validation and\n",
            "    ``next(ShuffleSplit().split(X, y))`` and application to input data\n",
            "    into a single call for splitting (and optionally subsampling) data in a\n",
            "    oneliner.\n",
            "    \n",
            "    Read more in the :ref:`User Guide <cross_validation>`.\n",
            "    \n",
            "    Parameters\n",
            "    ----------\n",
            "    *arrays : sequence of indexables with same length / shape[0]\n",
            "        Allowed inputs are lists, numpy arrays, scipy-sparse\n",
            "        matrices or pandas dataframes.\n",
            "    \n",
            "    test_size : float or int, default=None\n",
            "        If float, should be between 0.0 and 1.0 and represent the proportion\n",
            "        of the dataset to include in the test split. If int, represents the\n",
            "        absolute number of test samples. If None, the value is set to the\n",
            "        complement of the train size. If ``train_size`` is also None, it will\n",
            "        be set to 0.25.\n",
            "    \n",
            "    train_size : float or int, default=None\n",
            "        If float, should be between 0.0 and 1.0 and represent the\n",
            "        proportion of the dataset to include in the train split. If\n",
            "        int, represents the absolute number of train samples. If None,\n",
            "        the value is automatically set to the complement of the test size.\n",
            "    \n",
            "    random_state : int, RandomState instance or None, default=None\n",
            "        Controls the shuffling applied to the data before applying the split.\n",
            "        Pass an int for reproducible output across multiple function calls.\n",
            "        See :term:`Glossary <random_state>`.\n",
            "    \n",
            "    shuffle : bool, default=True\n",
            "        Whether or not to shuffle the data before splitting. If shuffle=False\n",
            "        then stratify must be None.\n",
            "    \n",
            "    stratify : array-like, default=None\n",
            "        If not None, data is split in a stratified fashion, using this as\n",
            "        the class labels.\n",
            "        Read more in the :ref:`User Guide <stratification>`.\n",
            "    \n",
            "    Returns\n",
            "    -------\n",
            "    splitting : list, length=2 * len(arrays)\n",
            "        List containing train-test split of inputs.\n",
            "    \n",
            "        .. versionadded:: 0.16\n",
            "            If the input is sparse, the output will be a\n",
            "            ``scipy.sparse.csr_matrix``. Else, output type is the same as the\n",
            "            input type.\n",
            "    \n",
            "    Examples\n",
            "    --------\n",
            "    >>> import numpy as np\n",
            "    >>> from sklearn.model_selection import train_test_split\n",
            "    >>> X, y = np.arange(10).reshape((5, 2)), range(5)\n",
            "    >>> X\n",
            "    array([[0, 1],\n",
            "           [2, 3],\n",
            "           [4, 5],\n",
            "           [6, 7],\n",
            "           [8, 9]])\n",
            "    >>> list(y)\n",
            "    [0, 1, 2, 3, 4]\n",
            "    \n",
            "    >>> X_train, X_test, y_train, y_test = train_test_split(\n",
            "    ...     X, y, test_size=0.33, random_state=42)\n",
            "    ...\n",
            "    >>> X_train\n",
            "    array([[4, 5],\n",
            "           [0, 1],\n",
            "           [6, 7]])\n",
            "    >>> y_train\n",
            "    [2, 0, 3]\n",
            "    >>> X_test\n",
            "    array([[2, 3],\n",
            "           [8, 9]])\n",
            "    >>> y_test\n",
            "    [1, 4]\n",
            "    \n",
            "    >>> train_test_split(y, shuffle=False)\n",
            "    [[0, 1, 2], [3, 4]]\n",
            "\n"
          ]
        }
      ],
      "source": [
        "#The help shows that the default value of test_size is 0.25\n",
        "help(train_test_split)"
      ]
    },
    {
      "cell_type": "code",
      "execution_count": null,
      "metadata": {
        "id": "TMrAxbg7zV8L",
        "outputId": "214bf4c6-43cc-4142-a319-16a5f3554111"
      },
      "outputs": [
        {
          "data": {
            "text/plain": [
              "569"
            ]
          },
          "execution_count": 13,
          "metadata": {},
          "output_type": "execute_result"
        }
      ],
      "source": [
        "#To check how many rows do we have\n",
        "len(data.data)"
      ]
    },
    {
      "cell_type": "code",
      "execution_count": null,
      "metadata": {
        "id": "jpnNiCurzV8M"
      },
      "outputs": [],
      "source": [
        "#From the total of 569 observed values, divide the data for training and evaluation into 7:3 or 8:2. \n",
        "#7.5:2.5 is the default value.\n",
        "#We can specify it using the test_size parameter\n",
        "X_train, X_test, y_train, y_test = train_test_split(data.data, data.target)"
      ]
    },
    {
      "cell_type": "code",
      "execution_count": null,
      "metadata": {
        "id": "bAO7Fn30zV8M",
        "outputId": "30b0eb6d-9e89-4222-99c9-b56008f95657"
      },
      "outputs": [
        {
          "name": "stdout",
          "output_type": "stream",
          "text": [
            "426.75 142.25\n"
          ]
        }
      ],
      "source": [
        "#Calculating the size of both train and test set\n",
        "print(569*0.75, 569*0.25)"
      ]
    },
    {
      "cell_type": "code",
      "execution_count": null,
      "metadata": {
        "id": "5Jo2MsRzzV8N",
        "outputId": "e3ec7c19-66ef-4238-e112-c02c25e57554"
      },
      "outputs": [
        {
          "data": {
            "text/plain": [
              "(426, 143)"
            ]
          },
          "execution_count": 16,
          "metadata": {},
          "output_type": "execute_result"
        }
      ],
      "source": [
        "#Making sure of the size\n",
        "len(X_train), len(X_test)"
      ]
    },
    {
      "cell_type": "markdown",
      "metadata": {
        "id": "oqaKv_9LzV8N"
      },
      "source": [
        "# ML Algorithm steps"
      ]
    },
    {
      "cell_type": "markdown",
      "metadata": {
        "id": "jtsmadzfzV8N"
      },
      "source": [
        "## Creating and instantiating the model\n",
        "Instancing is a process of selecting hyperparameters. Default values are applied to unset hyperparameters. Call the estimator to show parameter status."
      ]
    },
    {
      "cell_type": "code",
      "execution_count": null,
      "metadata": {
        "id": "IOQyWPOEzV8N"
      },
      "outputs": [],
      "source": [
        "#Instancing the estimator and hyperparameter setting\n",
        "model = DecisionTreeClassifier(criterion='entropy')"
      ]
    },
    {
      "cell_type": "code",
      "execution_count": null,
      "metadata": {
        "id": "esn8xKH-zV8N",
        "outputId": "d91323de-bcfb-42aa-bf83-7fa92c0e2ad6"
      },
      "outputs": [
        {
          "data": {
            "text/html": [
              "<style>#sk-container-id-1 {color: black;background-color: white;}#sk-container-id-1 pre{padding: 0;}#sk-container-id-1 div.sk-toggleable {background-color: white;}#sk-container-id-1 label.sk-toggleable__label {cursor: pointer;display: block;width: 100%;margin-bottom: 0;padding: 0.3em;box-sizing: border-box;text-align: center;}#sk-container-id-1 label.sk-toggleable__label-arrow:before {content: \"▸\";float: left;margin-right: 0.25em;color: #696969;}#sk-container-id-1 label.sk-toggleable__label-arrow:hover:before {color: black;}#sk-container-id-1 div.sk-estimator:hover label.sk-toggleable__label-arrow:before {color: black;}#sk-container-id-1 div.sk-toggleable__content {max-height: 0;max-width: 0;overflow: hidden;text-align: left;background-color: #f0f8ff;}#sk-container-id-1 div.sk-toggleable__content pre {margin: 0.2em;color: black;border-radius: 0.25em;background-color: #f0f8ff;}#sk-container-id-1 input.sk-toggleable__control:checked~div.sk-toggleable__content {max-height: 200px;max-width: 100%;overflow: auto;}#sk-container-id-1 input.sk-toggleable__control:checked~label.sk-toggleable__label-arrow:before {content: \"▾\";}#sk-container-id-1 div.sk-estimator input.sk-toggleable__control:checked~label.sk-toggleable__label {background-color: #d4ebff;}#sk-container-id-1 div.sk-label input.sk-toggleable__control:checked~label.sk-toggleable__label {background-color: #d4ebff;}#sk-container-id-1 input.sk-hidden--visually {border: 0;clip: rect(1px 1px 1px 1px);clip: rect(1px, 1px, 1px, 1px);height: 1px;margin: -1px;overflow: hidden;padding: 0;position: absolute;width: 1px;}#sk-container-id-1 div.sk-estimator {font-family: monospace;background-color: #f0f8ff;border: 1px dotted black;border-radius: 0.25em;box-sizing: border-box;margin-bottom: 0.5em;}#sk-container-id-1 div.sk-estimator:hover {background-color: #d4ebff;}#sk-container-id-1 div.sk-parallel-item::after {content: \"\";width: 100%;border-bottom: 1px solid gray;flex-grow: 1;}#sk-container-id-1 div.sk-label:hover label.sk-toggleable__label {background-color: #d4ebff;}#sk-container-id-1 div.sk-serial::before {content: \"\";position: absolute;border-left: 1px solid gray;box-sizing: border-box;top: 0;bottom: 0;left: 50%;z-index: 0;}#sk-container-id-1 div.sk-serial {display: flex;flex-direction: column;align-items: center;background-color: white;padding-right: 0.2em;padding-left: 0.2em;position: relative;}#sk-container-id-1 div.sk-item {position: relative;z-index: 1;}#sk-container-id-1 div.sk-parallel {display: flex;align-items: stretch;justify-content: center;background-color: white;position: relative;}#sk-container-id-1 div.sk-item::before, #sk-container-id-1 div.sk-parallel-item::before {content: \"\";position: absolute;border-left: 1px solid gray;box-sizing: border-box;top: 0;bottom: 0;left: 50%;z-index: -1;}#sk-container-id-1 div.sk-parallel-item {display: flex;flex-direction: column;z-index: 1;position: relative;background-color: white;}#sk-container-id-1 div.sk-parallel-item:first-child::after {align-self: flex-end;width: 50%;}#sk-container-id-1 div.sk-parallel-item:last-child::after {align-self: flex-start;width: 50%;}#sk-container-id-1 div.sk-parallel-item:only-child::after {width: 0;}#sk-container-id-1 div.sk-dashed-wrapped {border: 1px dashed gray;margin: 0 0.4em 0.5em 0.4em;box-sizing: border-box;padding-bottom: 0.4em;background-color: white;}#sk-container-id-1 div.sk-label label {font-family: monospace;font-weight: bold;display: inline-block;line-height: 1.2em;}#sk-container-id-1 div.sk-label-container {text-align: center;}#sk-container-id-1 div.sk-container {/* jupyter's `normalize.less` sets `[hidden] { display: none; }` but bootstrap.min.css set `[hidden] { display: none !important; }` so we also need the `!important` here to be able to override the default hidden behavior on the sphinx rendered scikit-learn.org. See: https://github.com/scikit-learn/scikit-learn/issues/21755 */display: inline-block !important;position: relative;}#sk-container-id-1 div.sk-text-repr-fallback {display: none;}</style><div id=\"sk-container-id-1\" class=\"sk-top-container\"><div class=\"sk-text-repr-fallback\"><pre>DecisionTreeClassifier(criterion=&#x27;entropy&#x27;)</pre><b>In a Jupyter environment, please rerun this cell to show the HTML representation or trust the notebook. <br />On GitHub, the HTML representation is unable to render, please try loading this page with nbviewer.org.</b></div><div class=\"sk-container\" hidden><div class=\"sk-item\"><div class=\"sk-estimator sk-toggleable\"><input class=\"sk-toggleable__control sk-hidden--visually\" id=\"sk-estimator-id-1\" type=\"checkbox\" checked><label for=\"sk-estimator-id-1\" class=\"sk-toggleable__label sk-toggleable__label-arrow\">DecisionTreeClassifier</label><div class=\"sk-toggleable__content\"><pre>DecisionTreeClassifier(criterion=&#x27;entropy&#x27;)</pre></div></div></div></div></div>"
            ],
            "text/plain": [
              "DecisionTreeClassifier(criterion='entropy')"
            ]
          },
          "execution_count": 18,
          "metadata": {},
          "output_type": "execute_result"
        }
      ],
      "source": [
        "#Use the fit method with instance estimator for training. \n",
        "#Send the training data and label data together as an argument to supervised learning algorithm.\n",
        "\n",
        "model.fit(X_train, y_train)"
      ]
    },
    {
      "cell_type": "code",
      "execution_count": null,
      "metadata": {
        "id": "gesemq7azV8O",
        "outputId": "f81ea95c-1a8e-4353-9199-57c534e45002"
      },
      "outputs": [
        {
          "data": {
            "text/plain": [
              "array([1, 0, 1, 1, 1, 0, 1, 1, 1, 1, 1, 0, 1, 1, 0, 0, 1, 1, 0, 1, 0, 0,\n",
              "       1, 1, 0, 0, 0, 1, 1, 1, 0, 1, 0, 1, 0, 1, 0, 1, 1, 1, 0, 1, 0, 0,\n",
              "       0, 0, 1, 1, 1, 0, 1, 0, 1, 1, 1, 1, 1, 1, 1, 1, 1, 0, 0, 1, 1, 0,\n",
              "       0, 1, 0, 1, 0, 1, 0, 1, 0, 0, 0, 1, 1, 1, 1, 0, 1, 0, 0, 1, 0, 1,\n",
              "       0, 1, 1, 1, 0, 1, 1, 0, 1, 1, 1, 1, 0, 0, 0, 1, 1, 1, 1, 1, 1, 1,\n",
              "       1, 1, 1, 1, 0, 0, 0, 1, 1, 0, 1, 0, 1, 1, 1, 1, 1, 1, 1, 1, 0, 0,\n",
              "       1, 1, 0, 0, 1, 1, 1, 1, 1, 1, 1])"
            ]
          },
          "execution_count": 19,
          "metadata": {},
          "output_type": "execute_result"
        }
      ],
      "source": [
        "#The instance estimator that has completed training with fitting can be applied with the predict method. \n",
        "#‘Predict’ converts the estimated results of the model regarding the entered data\n",
        "\n",
        "y_pred = model.predict(X_test)\n",
        "y_pred"
      ]
    },
    {
      "cell_type": "markdown",
      "metadata": {
        "id": "m9TwGYXqzV8O"
      },
      "source": [
        "## Calculate the accuracy"
      ]
    },
    {
      "cell_type": "code",
      "execution_count": null,
      "metadata": {
        "id": "V0fB7QA8zV8O"
      },
      "outputs": [],
      "source": [
        "#Create two arrays -Predicted_values and -Actual_values to comapre between them\n",
        "\n",
        "pred_2d = y_pred.reshape(-1, 1)\n",
        "y_test_2d = y_test.reshape(len(y_pred), 1)"
      ]
    },
    {
      "cell_type": "code",
      "execution_count": null,
      "metadata": {
        "id": "UvtJWqd_zV8O"
      },
      "outputs": [],
      "source": [
        "#Converting to a df\n",
        "\n",
        "df1 = pd.DataFrame(pred_2d)\n",
        "df2 = pd.DataFrame(y_test_2d)"
      ]
    },
    {
      "cell_type": "code",
      "execution_count": null,
      "metadata": {
        "id": "5MRa5VPrzV8O"
      },
      "outputs": [],
      "source": [
        "df_concat = pd.concat([df1, df2], axis = 1)\n",
        "df_concat.columns = ['pred', 'real']"
      ]
    },
    {
      "cell_type": "code",
      "execution_count": null,
      "metadata": {
        "id": "3Q_3tFTBzV8P",
        "outputId": "66bbdf78-b46f-4109-e28c-aa16c9e3df22"
      },
      "outputs": [
        {
          "data": {
            "text/html": [
              "<div>\n",
              "<style scoped>\n",
              "    .dataframe tbody tr th:only-of-type {\n",
              "        vertical-align: middle;\n",
              "    }\n",
              "\n",
              "    .dataframe tbody tr th {\n",
              "        vertical-align: top;\n",
              "    }\n",
              "\n",
              "    .dataframe thead th {\n",
              "        text-align: right;\n",
              "    }\n",
              "</style>\n",
              "<table border=\"1\" class=\"dataframe\">\n",
              "  <thead>\n",
              "    <tr style=\"text-align: right;\">\n",
              "      <th></th>\n",
              "      <th>pred</th>\n",
              "      <th>real</th>\n",
              "    </tr>\n",
              "  </thead>\n",
              "  <tbody>\n",
              "    <tr>\n",
              "      <th>0</th>\n",
              "      <td>1</td>\n",
              "      <td>1</td>\n",
              "    </tr>\n",
              "    <tr>\n",
              "      <th>1</th>\n",
              "      <td>0</td>\n",
              "      <td>0</td>\n",
              "    </tr>\n",
              "    <tr>\n",
              "      <th>2</th>\n",
              "      <td>1</td>\n",
              "      <td>1</td>\n",
              "    </tr>\n",
              "    <tr>\n",
              "      <th>3</th>\n",
              "      <td>1</td>\n",
              "      <td>1</td>\n",
              "    </tr>\n",
              "    <tr>\n",
              "      <th>4</th>\n",
              "      <td>1</td>\n",
              "      <td>1</td>\n",
              "    </tr>\n",
              "    <tr>\n",
              "      <th>5</th>\n",
              "      <td>0</td>\n",
              "      <td>0</td>\n",
              "    </tr>\n",
              "    <tr>\n",
              "      <th>6</th>\n",
              "      <td>1</td>\n",
              "      <td>1</td>\n",
              "    </tr>\n",
              "    <tr>\n",
              "      <th>7</th>\n",
              "      <td>1</td>\n",
              "      <td>1</td>\n",
              "    </tr>\n",
              "    <tr>\n",
              "      <th>8</th>\n",
              "      <td>1</td>\n",
              "      <td>1</td>\n",
              "    </tr>\n",
              "    <tr>\n",
              "      <th>9</th>\n",
              "      <td>1</td>\n",
              "      <td>1</td>\n",
              "    </tr>\n",
              "    <tr>\n",
              "      <th>10</th>\n",
              "      <td>1</td>\n",
              "      <td>1</td>\n",
              "    </tr>\n",
              "    <tr>\n",
              "      <th>11</th>\n",
              "      <td>0</td>\n",
              "      <td>0</td>\n",
              "    </tr>\n",
              "    <tr>\n",
              "      <th>12</th>\n",
              "      <td>1</td>\n",
              "      <td>1</td>\n",
              "    </tr>\n",
              "    <tr>\n",
              "      <th>13</th>\n",
              "      <td>1</td>\n",
              "      <td>1</td>\n",
              "    </tr>\n",
              "    <tr>\n",
              "      <th>14</th>\n",
              "      <td>0</td>\n",
              "      <td>0</td>\n",
              "    </tr>\n",
              "  </tbody>\n",
              "</table>\n",
              "</div>"
            ],
            "text/plain": [
              "    pred  real\n",
              "0      1     1\n",
              "1      0     0\n",
              "2      1     1\n",
              "3      1     1\n",
              "4      1     1\n",
              "5      0     0\n",
              "6      1     1\n",
              "7      1     1\n",
              "8      1     1\n",
              "9      1     1\n",
              "10     1     1\n",
              "11     0     0\n",
              "12     1     1\n",
              "13     1     1\n",
              "14     0     0"
            ]
          },
          "execution_count": 23,
          "metadata": {},
          "output_type": "execute_result"
        }
      ],
      "source": [
        "#We can see the results\n",
        "\n",
        "df_concat.head(15)"
      ]
    },
    {
      "cell_type": "code",
      "execution_count": null,
      "metadata": {
        "id": "WKbCWSJyzV8P",
        "outputId": "e681ce45-ca3c-4de0-9853-a443690b3ef0"
      },
      "outputs": [
        {
          "data": {
            "text/html": [
              "<div>\n",
              "<style scoped>\n",
              "    .dataframe tbody tr th:only-of-type {\n",
              "        vertical-align: middle;\n",
              "    }\n",
              "\n",
              "    .dataframe tbody tr th {\n",
              "        vertical-align: top;\n",
              "    }\n",
              "\n",
              "    .dataframe thead th {\n",
              "        text-align: right;\n",
              "    }\n",
              "</style>\n",
              "<table border=\"1\" class=\"dataframe\">\n",
              "  <thead>\n",
              "    <tr style=\"text-align: right;\">\n",
              "      <th></th>\n",
              "      <th>pred</th>\n",
              "      <th>real</th>\n",
              "    </tr>\n",
              "  </thead>\n",
              "  <tbody>\n",
              "    <tr>\n",
              "      <th>0</th>\n",
              "      <td>1</td>\n",
              "      <td>1</td>\n",
              "    </tr>\n",
              "    <tr>\n",
              "      <th>1</th>\n",
              "      <td>0</td>\n",
              "      <td>0</td>\n",
              "    </tr>\n",
              "    <tr>\n",
              "      <th>2</th>\n",
              "      <td>1</td>\n",
              "      <td>1</td>\n",
              "    </tr>\n",
              "    <tr>\n",
              "      <th>3</th>\n",
              "      <td>1</td>\n",
              "      <td>1</td>\n",
              "    </tr>\n",
              "    <tr>\n",
              "      <th>4</th>\n",
              "      <td>1</td>\n",
              "      <td>1</td>\n",
              "    </tr>\n",
              "    <tr>\n",
              "      <th>...</th>\n",
              "      <td>...</td>\n",
              "      <td>...</td>\n",
              "    </tr>\n",
              "    <tr>\n",
              "      <th>135</th>\n",
              "      <td>0</td>\n",
              "      <td>0</td>\n",
              "    </tr>\n",
              "    <tr>\n",
              "      <th>136</th>\n",
              "      <td>1</td>\n",
              "      <td>1</td>\n",
              "    </tr>\n",
              "    <tr>\n",
              "      <th>138</th>\n",
              "      <td>1</td>\n",
              "      <td>1</td>\n",
              "    </tr>\n",
              "    <tr>\n",
              "      <th>140</th>\n",
              "      <td>1</td>\n",
              "      <td>1</td>\n",
              "    </tr>\n",
              "    <tr>\n",
              "      <th>142</th>\n",
              "      <td>1</td>\n",
              "      <td>1</td>\n",
              "    </tr>\n",
              "  </tbody>\n",
              "</table>\n",
              "<p>132 rows × 2 columns</p>\n",
              "</div>"
            ],
            "text/plain": [
              "     pred  real\n",
              "0       1     1\n",
              "1       0     0\n",
              "2       1     1\n",
              "3       1     1\n",
              "4       1     1\n",
              "..    ...   ...\n",
              "135     0     0\n",
              "136     1     1\n",
              "138     1     1\n",
              "140     1     1\n",
              "142     1     1\n",
              "\n",
              "[132 rows x 2 columns]"
            ]
          },
          "execution_count": 24,
          "metadata": {},
          "output_type": "execute_result"
        }
      ],
      "source": [
        "#We make a condition to show where the prediction = actual \n",
        "\n",
        "df_concat[df_concat['pred'] == df_concat['real']]"
      ]
    },
    {
      "cell_type": "code",
      "execution_count": null,
      "metadata": {
        "id": "cK3-ziy4zV8P"
      },
      "outputs": [],
      "source": [
        "true = len(df_concat[df_concat['pred'] == df_concat['real']])"
      ]
    },
    {
      "cell_type": "code",
      "execution_count": null,
      "metadata": {
        "id": "l-PfD5-pzV8P",
        "outputId": "617e3ce1-bfe2-45ef-e02d-2115d3a963d5"
      },
      "outputs": [
        {
          "data": {
            "text/plain": [
              "0.9230769230769231"
            ]
          },
          "execution_count": 26,
          "metadata": {},
          "output_type": "execute_result"
        }
      ],
      "source": [
        "#We calculate how many good prediction our model made\n",
        "#This is what we call the accuracy of a model\n",
        "\n",
        "true/len(df_concat)"
      ]
    },
    {
      "cell_type": "markdown",
      "metadata": {
        "id": "LinBk91ZzV8P"
      },
      "source": [
        "## Increasing Accuracy with Standardization"
      ]
    },
    {
      "cell_type": "code",
      "execution_count": null,
      "metadata": {
        "id": "uPGEx1RFzV8P"
      },
      "outputs": [],
      "source": [
        "#The standardization is available as StandardScaler class in the scikit-learn. \n",
        "\n",
        "scaler = StandardScaler()"
      ]
    },
    {
      "cell_type": "code",
      "execution_count": null,
      "metadata": {
        "id": "zG-lJUASzV8Q",
        "outputId": "46d0f6de-0a4d-4916-e132-de3bb9fb7b88"
      },
      "outputs": [
        {
          "data": {
            "text/html": [
              "<div>\n",
              "<style scoped>\n",
              "    .dataframe tbody tr th:only-of-type {\n",
              "        vertical-align: middle;\n",
              "    }\n",
              "\n",
              "    .dataframe tbody tr th {\n",
              "        vertical-align: top;\n",
              "    }\n",
              "\n",
              "    .dataframe thead th {\n",
              "        text-align: right;\n",
              "    }\n",
              "</style>\n",
              "<table border=\"1\" class=\"dataframe\">\n",
              "  <thead>\n",
              "    <tr style=\"text-align: right;\">\n",
              "      <th></th>\n",
              "      <th>0</th>\n",
              "      <th>1</th>\n",
              "      <th>2</th>\n",
              "      <th>3</th>\n",
              "      <th>4</th>\n",
              "      <th>5</th>\n",
              "      <th>6</th>\n",
              "      <th>7</th>\n",
              "      <th>8</th>\n",
              "      <th>9</th>\n",
              "      <th>...</th>\n",
              "      <th>20</th>\n",
              "      <th>21</th>\n",
              "      <th>22</th>\n",
              "      <th>23</th>\n",
              "      <th>24</th>\n",
              "      <th>25</th>\n",
              "      <th>26</th>\n",
              "      <th>27</th>\n",
              "      <th>28</th>\n",
              "      <th>29</th>\n",
              "    </tr>\n",
              "  </thead>\n",
              "  <tbody>\n",
              "    <tr>\n",
              "      <th>0</th>\n",
              "      <td>12.87</td>\n",
              "      <td>16.21</td>\n",
              "      <td>82.38</td>\n",
              "      <td>512.2</td>\n",
              "      <td>0.09425</td>\n",
              "      <td>0.06219</td>\n",
              "      <td>0.03900</td>\n",
              "      <td>0.01615</td>\n",
              "      <td>0.2010</td>\n",
              "      <td>0.05769</td>\n",
              "      <td>...</td>\n",
              "      <td>13.90</td>\n",
              "      <td>23.64</td>\n",
              "      <td>89.27</td>\n",
              "      <td>597.5</td>\n",
              "      <td>0.12560</td>\n",
              "      <td>0.18080</td>\n",
              "      <td>0.19920</td>\n",
              "      <td>0.05780</td>\n",
              "      <td>0.3604</td>\n",
              "      <td>0.07062</td>\n",
              "    </tr>\n",
              "    <tr>\n",
              "      <th>1</th>\n",
              "      <td>17.54</td>\n",
              "      <td>19.32</td>\n",
              "      <td>115.10</td>\n",
              "      <td>951.6</td>\n",
              "      <td>0.08968</td>\n",
              "      <td>0.11980</td>\n",
              "      <td>0.10360</td>\n",
              "      <td>0.07488</td>\n",
              "      <td>0.1506</td>\n",
              "      <td>0.05491</td>\n",
              "      <td>...</td>\n",
              "      <td>20.42</td>\n",
              "      <td>25.84</td>\n",
              "      <td>139.50</td>\n",
              "      <td>1239.0</td>\n",
              "      <td>0.13810</td>\n",
              "      <td>0.34200</td>\n",
              "      <td>0.35080</td>\n",
              "      <td>0.19390</td>\n",
              "      <td>0.2928</td>\n",
              "      <td>0.07867</td>\n",
              "    </tr>\n",
              "    <tr>\n",
              "      <th>2</th>\n",
              "      <td>12.43</td>\n",
              "      <td>17.00</td>\n",
              "      <td>78.60</td>\n",
              "      <td>477.3</td>\n",
              "      <td>0.07557</td>\n",
              "      <td>0.03454</td>\n",
              "      <td>0.01342</td>\n",
              "      <td>0.01699</td>\n",
              "      <td>0.1472</td>\n",
              "      <td>0.05561</td>\n",
              "      <td>...</td>\n",
              "      <td>12.90</td>\n",
              "      <td>20.21</td>\n",
              "      <td>81.76</td>\n",
              "      <td>515.9</td>\n",
              "      <td>0.08409</td>\n",
              "      <td>0.04712</td>\n",
              "      <td>0.02237</td>\n",
              "      <td>0.02832</td>\n",
              "      <td>0.1901</td>\n",
              "      <td>0.05932</td>\n",
              "    </tr>\n",
              "    <tr>\n",
              "      <th>3</th>\n",
              "      <td>11.75</td>\n",
              "      <td>17.56</td>\n",
              "      <td>75.89</td>\n",
              "      <td>422.9</td>\n",
              "      <td>0.10730</td>\n",
              "      <td>0.09713</td>\n",
              "      <td>0.05282</td>\n",
              "      <td>0.04440</td>\n",
              "      <td>0.1598</td>\n",
              "      <td>0.06677</td>\n",
              "      <td>...</td>\n",
              "      <td>13.50</td>\n",
              "      <td>27.98</td>\n",
              "      <td>88.52</td>\n",
              "      <td>552.3</td>\n",
              "      <td>0.13490</td>\n",
              "      <td>0.18540</td>\n",
              "      <td>0.13660</td>\n",
              "      <td>0.10100</td>\n",
              "      <td>0.2478</td>\n",
              "      <td>0.07757</td>\n",
              "    </tr>\n",
              "    <tr>\n",
              "      <th>4</th>\n",
              "      <td>11.74</td>\n",
              "      <td>14.02</td>\n",
              "      <td>74.24</td>\n",
              "      <td>427.3</td>\n",
              "      <td>0.07813</td>\n",
              "      <td>0.04340</td>\n",
              "      <td>0.02245</td>\n",
              "      <td>0.02763</td>\n",
              "      <td>0.2101</td>\n",
              "      <td>0.06113</td>\n",
              "      <td>...</td>\n",
              "      <td>13.31</td>\n",
              "      <td>18.26</td>\n",
              "      <td>84.70</td>\n",
              "      <td>533.7</td>\n",
              "      <td>0.10360</td>\n",
              "      <td>0.08500</td>\n",
              "      <td>0.06735</td>\n",
              "      <td>0.08290</td>\n",
              "      <td>0.3101</td>\n",
              "      <td>0.06688</td>\n",
              "    </tr>\n",
              "  </tbody>\n",
              "</table>\n",
              "<p>5 rows × 30 columns</p>\n",
              "</div>"
            ],
            "text/plain": [
              "      0      1       2      3        4        5        6        7       8   \\\n",
              "0  12.87  16.21   82.38  512.2  0.09425  0.06219  0.03900  0.01615  0.2010   \n",
              "1  17.54  19.32  115.10  951.6  0.08968  0.11980  0.10360  0.07488  0.1506   \n",
              "2  12.43  17.00   78.60  477.3  0.07557  0.03454  0.01342  0.01699  0.1472   \n",
              "3  11.75  17.56   75.89  422.9  0.10730  0.09713  0.05282  0.04440  0.1598   \n",
              "4  11.74  14.02   74.24  427.3  0.07813  0.04340  0.02245  0.02763  0.2101   \n",
              "\n",
              "        9   ...     20     21      22      23       24       25       26  \\\n",
              "0  0.05769  ...  13.90  23.64   89.27   597.5  0.12560  0.18080  0.19920   \n",
              "1  0.05491  ...  20.42  25.84  139.50  1239.0  0.13810  0.34200  0.35080   \n",
              "2  0.05561  ...  12.90  20.21   81.76   515.9  0.08409  0.04712  0.02237   \n",
              "3  0.06677  ...  13.50  27.98   88.52   552.3  0.13490  0.18540  0.13660   \n",
              "4  0.06113  ...  13.31  18.26   84.70   533.7  0.10360  0.08500  0.06735   \n",
              "\n",
              "        27      28       29  \n",
              "0  0.05780  0.3604  0.07062  \n",
              "1  0.19390  0.2928  0.07867  \n",
              "2  0.02832  0.1901  0.05932  \n",
              "3  0.10100  0.2478  0.07757  \n",
              "4  0.08290  0.3101  0.06688  \n",
              "\n",
              "[5 rows x 30 columns]"
            ]
          },
          "execution_count": 33,
          "metadata": {},
          "output_type": "execute_result"
        }
      ],
      "source": [
        "#Our data before standardization\n",
        "\n",
        "pd.DataFrame(X_train).head()"
      ]
    },
    {
      "cell_type": "code",
      "execution_count": null,
      "metadata": {
        "id": "2jNEtAodzV8Q",
        "outputId": "34b1e9d7-5a16-41db-a866-e711108aa352"
      },
      "outputs": [
        {
          "data": {
            "text/html": [
              "<div>\n",
              "<style scoped>\n",
              "    .dataframe tbody tr th:only-of-type {\n",
              "        vertical-align: middle;\n",
              "    }\n",
              "\n",
              "    .dataframe tbody tr th {\n",
              "        vertical-align: top;\n",
              "    }\n",
              "\n",
              "    .dataframe thead th {\n",
              "        text-align: right;\n",
              "    }\n",
              "</style>\n",
              "<table border=\"1\" class=\"dataframe\">\n",
              "  <thead>\n",
              "    <tr style=\"text-align: right;\">\n",
              "      <th></th>\n",
              "      <th>0</th>\n",
              "      <th>1</th>\n",
              "      <th>2</th>\n",
              "      <th>3</th>\n",
              "      <th>4</th>\n",
              "      <th>5</th>\n",
              "      <th>6</th>\n",
              "      <th>7</th>\n",
              "      <th>8</th>\n",
              "      <th>9</th>\n",
              "      <th>...</th>\n",
              "      <th>20</th>\n",
              "      <th>21</th>\n",
              "      <th>22</th>\n",
              "      <th>23</th>\n",
              "      <th>24</th>\n",
              "      <th>25</th>\n",
              "      <th>26</th>\n",
              "      <th>27</th>\n",
              "      <th>28</th>\n",
              "      <th>29</th>\n",
              "    </tr>\n",
              "  </thead>\n",
              "  <tbody>\n",
              "    <tr>\n",
              "      <th>0</th>\n",
              "      <td>-0.383520</td>\n",
              "      <td>-0.765395</td>\n",
              "      <td>-0.418896</td>\n",
              "      <td>-0.428593</td>\n",
              "      <td>-0.089628</td>\n",
              "      <td>-0.790667</td>\n",
              "      <td>-0.616066</td>\n",
              "      <td>-0.837589</td>\n",
              "      <td>0.754743</td>\n",
              "      <td>-0.688645</td>\n",
              "      <td>...</td>\n",
              "      <td>-0.507241</td>\n",
              "      <td>-0.362758</td>\n",
              "      <td>-0.553656</td>\n",
              "      <td>-0.510198</td>\n",
              "      <td>-0.252923</td>\n",
              "      <td>-0.468315</td>\n",
              "      <td>-0.349992</td>\n",
              "      <td>-0.870496</td>\n",
              "      <td>1.153187</td>\n",
              "      <td>-0.711634</td>\n",
              "    </tr>\n",
              "    <tr>\n",
              "      <th>1</th>\n",
              "      <td>0.938046</td>\n",
              "      <td>-0.020018</td>\n",
              "      <td>0.926222</td>\n",
              "      <td>0.816967</td>\n",
              "      <td>-0.424680</td>\n",
              "      <td>0.315189</td>\n",
              "      <td>0.219097</td>\n",
              "      <td>0.695239</td>\n",
              "      <td>-1.121119</td>\n",
              "      <td>-1.091870</td>\n",
              "      <td>...</td>\n",
              "      <td>0.836472</td>\n",
              "      <td>0.010621</td>\n",
              "      <td>0.941012</td>\n",
              "      <td>0.610235</td>\n",
              "      <td>0.306899</td>\n",
              "      <td>0.550840</td>\n",
              "      <td>0.378618</td>\n",
              "      <td>1.208696</td>\n",
              "      <td>0.049861</td>\n",
              "      <td>-0.272592</td>\n",
              "    </tr>\n",
              "    <tr>\n",
              "      <th>2</th>\n",
              "      <td>-0.508036</td>\n",
              "      <td>-0.576055</td>\n",
              "      <td>-0.574292</td>\n",
              "      <td>-0.527523</td>\n",
              "      <td>-1.459165</td>\n",
              "      <td>-1.321424</td>\n",
              "      <td>-0.946769</td>\n",
              "      <td>-0.815666</td>\n",
              "      <td>-1.247665</td>\n",
              "      <td>-0.990339</td>\n",
              "      <td>...</td>\n",
              "      <td>-0.713333</td>\n",
              "      <td>-0.944890</td>\n",
              "      <td>-0.777127</td>\n",
              "      <td>-0.652719</td>\n",
              "      <td>-2.111980</td>\n",
              "      <td>-1.313481</td>\n",
              "      <td>-1.199860</td>\n",
              "      <td>-1.320861</td>\n",
              "      <td>-1.626347</td>\n",
              "      <td>-1.327930</td>\n",
              "    </tr>\n",
              "    <tr>\n",
              "      <th>3</th>\n",
              "      <td>-0.700470</td>\n",
              "      <td>-0.441839</td>\n",
              "      <td>-0.685700</td>\n",
              "      <td>-0.681730</td>\n",
              "      <td>0.867142</td>\n",
              "      <td>-0.119974</td>\n",
              "      <td>-0.437398</td>\n",
              "      <td>-0.100276</td>\n",
              "      <td>-0.778699</td>\n",
              "      <td>0.628366</td>\n",
              "      <td>...</td>\n",
              "      <td>-0.589678</td>\n",
              "      <td>0.373817</td>\n",
              "      <td>-0.575973</td>\n",
              "      <td>-0.589144</td>\n",
              "      <td>0.163585</td>\n",
              "      <td>-0.439233</td>\n",
              "      <td>-0.650856</td>\n",
              "      <td>-0.210532</td>\n",
              "      <td>-0.684602</td>\n",
              "      <td>-0.332585</td>\n",
              "    </tr>\n",
              "    <tr>\n",
              "      <th>4</th>\n",
              "      <td>-0.703299</td>\n",
              "      <td>-1.290275</td>\n",
              "      <td>-0.753532</td>\n",
              "      <td>-0.669257</td>\n",
              "      <td>-1.271477</td>\n",
              "      <td>-1.151352</td>\n",
              "      <td>-0.830028</td>\n",
              "      <td>-0.537966</td>\n",
              "      <td>1.093440</td>\n",
              "      <td>-0.189689</td>\n",
              "      <td>...</td>\n",
              "      <td>-0.628835</td>\n",
              "      <td>-1.275840</td>\n",
              "      <td>-0.689643</td>\n",
              "      <td>-0.621630</td>\n",
              "      <td>-1.238210</td>\n",
              "      <td>-1.073992</td>\n",
              "      <td>-0.983680</td>\n",
              "      <td>-0.487045</td>\n",
              "      <td>0.332221</td>\n",
              "      <td>-0.915612</td>\n",
              "    </tr>\n",
              "  </tbody>\n",
              "</table>\n",
              "<p>5 rows × 30 columns</p>\n",
              "</div>"
            ],
            "text/plain": [
              "         0         1         2         3         4         5         6   \\\n",
              "0 -0.383520 -0.765395 -0.418896 -0.428593 -0.089628 -0.790667 -0.616066   \n",
              "1  0.938046 -0.020018  0.926222  0.816967 -0.424680  0.315189  0.219097   \n",
              "2 -0.508036 -0.576055 -0.574292 -0.527523 -1.459165 -1.321424 -0.946769   \n",
              "3 -0.700470 -0.441839 -0.685700 -0.681730  0.867142 -0.119974 -0.437398   \n",
              "4 -0.703299 -1.290275 -0.753532 -0.669257 -1.271477 -1.151352 -0.830028   \n",
              "\n",
              "         7         8         9   ...        20        21        22        23  \\\n",
              "0 -0.837589  0.754743 -0.688645  ... -0.507241 -0.362758 -0.553656 -0.510198   \n",
              "1  0.695239 -1.121119 -1.091870  ...  0.836472  0.010621  0.941012  0.610235   \n",
              "2 -0.815666 -1.247665 -0.990339  ... -0.713333 -0.944890 -0.777127 -0.652719   \n",
              "3 -0.100276 -0.778699  0.628366  ... -0.589678  0.373817 -0.575973 -0.589144   \n",
              "4 -0.537966  1.093440 -0.189689  ... -0.628835 -1.275840 -0.689643 -0.621630   \n",
              "\n",
              "         24        25        26        27        28        29  \n",
              "0 -0.252923 -0.468315 -0.349992 -0.870496  1.153187 -0.711634  \n",
              "1  0.306899  0.550840  0.378618  1.208696  0.049861 -0.272592  \n",
              "2 -2.111980 -1.313481 -1.199860 -1.320861 -1.626347 -1.327930  \n",
              "3  0.163585 -0.439233 -0.650856 -0.210532 -0.684602 -0.332585  \n",
              "4 -1.238210 -1.073992 -0.983680 -0.487045  0.332221 -0.915612  \n",
              "\n",
              "[5 rows x 30 columns]"
            ]
          },
          "execution_count": 34,
          "metadata": {},
          "output_type": "execute_result"
        }
      ],
      "source": [
        "#Our data after standardization\n",
        "\n",
        "scaler.fit(X_train)\n",
        "pd.DataFrame(scaler.transform(X_train)).head()"
      ]
    },
    {
      "cell_type": "markdown",
      "metadata": {
        "id": "wLitOuyozV8Q"
      },
      "source": [
        "* The differences among column values are huge before standardization.\n",
        "\n",
        "* After standardization, the column values do not significantly deviate from 0. \n",
        "\n",
        "* Better performance would be possible compared to before standardization.\n"
      ]
    }
  ],
  "metadata": {
    "kernelspec": {
      "display_name": "Python 3.9.10 64-bit",
      "language": "python",
      "name": "python3"
    },
    "language_info": {
      "codemirror_mode": {
        "name": "ipython",
        "version": 3
      },
      "file_extension": ".py",
      "mimetype": "text/x-python",
      "name": "python",
      "nbconvert_exporter": "python",
      "pygments_lexer": "ipython3",
      "version": "3.9.10"
    },
    "orig_nbformat": 4,
    "vscode": {
      "interpreter": {
        "hash": "5addf786bcd861d1ce5006f23111f8cbb206731e5b61b0a5632ba9e0252558a8"
      }
    },
    "colab": {
      "name": "Sklearn for ML.ipynb",
      "provenance": [],
      "collapsed_sections": [
        "8drQE-28zV8F",
        "l1kpEGhizV8L",
        "jtsmadzfzV8N",
        "m9TwGYXqzV8O",
        "LinBk91ZzV8P"
      ],
      "include_colab_link": true
    }
  },
  "nbformat": 4,
  "nbformat_minor": 0
}