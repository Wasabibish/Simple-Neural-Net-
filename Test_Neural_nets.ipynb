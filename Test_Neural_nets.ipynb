{
  "nbformat": 4,
  "nbformat_minor": 0,
  "metadata": {
    "colab": {
      "name": "Test Neural nets",
      "provenance": [],
      "collapsed_sections": [],
      "authorship_tag": "ABX9TyNMWg9QXdVxydP8JTKi2cs9",
      "include_colab_link": true
    },
    "kernelspec": {
      "name": "python3",
      "display_name": "Python 3"
    },
    "language_info": {
      "name": "python"
    }
  },
  "cells": [
    {
      "cell_type": "markdown",
      "metadata": {
        "id": "view-in-github",
        "colab_type": "text"
      },
      "source": [
        "<a href=\"https://colab.research.google.com/github/Wasabibish/Simple-Neural-Net-/blob/main/Test_Neural_nets.ipynb\" target=\"_parent\"><img src=\"https://colab.research.google.com/assets/colab-badge.svg\" alt=\"Open In Colab\"/></a>"
      ]
    },
    {
      "cell_type": "code",
      "execution_count": 9,
      "metadata": {
        "id": "Xyun3x4EZe51"
      },
      "outputs": [],
      "source": [
        "#Importation des librairies \n",
        "import pandas as pd\n",
        "import tensorflow as tf\n",
        "from sklearn.neural_network import MLPClassifier\n",
        "from sklearn.model_selection import train_test_split"
      ]
    },
    {
      "cell_type": "code",
      "source": [
        "#Importation du dataset\n",
        "dataset = pd.read_excel('datatest.xlsx')"
      ],
      "metadata": {
        "id": "70ZIT4jRra0D"
      },
      "execution_count": 6,
      "outputs": []
    },
    {
      "cell_type": "code",
      "source": [
        "#Visualiser notre dataset\n",
        "dataset.head()"
      ],
      "metadata": {
        "colab": {
          "base_uri": "https://localhost:8080/",
          "height": 206
        },
        "id": "yPoh1cMxrlKn",
        "outputId": "12f4885a-053b-4e0a-a3b8-8dac102ae6ed"
      },
      "execution_count": 8,
      "outputs": [
        {
          "output_type": "execute_result",
          "data": {
            "text/plain": [
              "   capteur1  capteur4  classe\n",
              "0 -2.873072 -2.960322       0\n",
              "1 -2.822573 -2.958599       0\n",
              "2 -2.748764 -2.630254       0\n",
              "3 -2.498566 -2.618639       0\n",
              "4 -2.380298 -2.597404       0"
            ],
            "text/html": [
              "\n",
              "  <div id=\"df-b7267972-e6fe-4d56-92d1-810572187108\">\n",
              "    <div class=\"colab-df-container\">\n",
              "      <div>\n",
              "<style scoped>\n",
              "    .dataframe tbody tr th:only-of-type {\n",
              "        vertical-align: middle;\n",
              "    }\n",
              "\n",
              "    .dataframe tbody tr th {\n",
              "        vertical-align: top;\n",
              "    }\n",
              "\n",
              "    .dataframe thead th {\n",
              "        text-align: right;\n",
              "    }\n",
              "</style>\n",
              "<table border=\"1\" class=\"dataframe\">\n",
              "  <thead>\n",
              "    <tr style=\"text-align: right;\">\n",
              "      <th></th>\n",
              "      <th>capteur1</th>\n",
              "      <th>capteur4</th>\n",
              "      <th>classe</th>\n",
              "    </tr>\n",
              "  </thead>\n",
              "  <tbody>\n",
              "    <tr>\n",
              "      <th>0</th>\n",
              "      <td>-2.873072</td>\n",
              "      <td>-2.960322</td>\n",
              "      <td>0</td>\n",
              "    </tr>\n",
              "    <tr>\n",
              "      <th>1</th>\n",
              "      <td>-2.822573</td>\n",
              "      <td>-2.958599</td>\n",
              "      <td>0</td>\n",
              "    </tr>\n",
              "    <tr>\n",
              "      <th>2</th>\n",
              "      <td>-2.748764</td>\n",
              "      <td>-2.630254</td>\n",
              "      <td>0</td>\n",
              "    </tr>\n",
              "    <tr>\n",
              "      <th>3</th>\n",
              "      <td>-2.498566</td>\n",
              "      <td>-2.618639</td>\n",
              "      <td>0</td>\n",
              "    </tr>\n",
              "    <tr>\n",
              "      <th>4</th>\n",
              "      <td>-2.380298</td>\n",
              "      <td>-2.597404</td>\n",
              "      <td>0</td>\n",
              "    </tr>\n",
              "  </tbody>\n",
              "</table>\n",
              "</div>\n",
              "      <button class=\"colab-df-convert\" onclick=\"convertToInteractive('df-b7267972-e6fe-4d56-92d1-810572187108')\"\n",
              "              title=\"Convert this dataframe to an interactive table.\"\n",
              "              style=\"display:none;\">\n",
              "        \n",
              "  <svg xmlns=\"http://www.w3.org/2000/svg\" height=\"24px\"viewBox=\"0 0 24 24\"\n",
              "       width=\"24px\">\n",
              "    <path d=\"M0 0h24v24H0V0z\" fill=\"none\"/>\n",
              "    <path d=\"M18.56 5.44l.94 2.06.94-2.06 2.06-.94-2.06-.94-.94-2.06-.94 2.06-2.06.94zm-11 1L8.5 8.5l.94-2.06 2.06-.94-2.06-.94L8.5 2.5l-.94 2.06-2.06.94zm10 10l.94 2.06.94-2.06 2.06-.94-2.06-.94-.94-2.06-.94 2.06-2.06.94z\"/><path d=\"M17.41 7.96l-1.37-1.37c-.4-.4-.92-.59-1.43-.59-.52 0-1.04.2-1.43.59L10.3 9.45l-7.72 7.72c-.78.78-.78 2.05 0 2.83L4 21.41c.39.39.9.59 1.41.59.51 0 1.02-.2 1.41-.59l7.78-7.78 2.81-2.81c.8-.78.8-2.07 0-2.86zM5.41 20L4 18.59l7.72-7.72 1.47 1.35L5.41 20z\"/>\n",
              "  </svg>\n",
              "      </button>\n",
              "      \n",
              "  <style>\n",
              "    .colab-df-container {\n",
              "      display:flex;\n",
              "      flex-wrap:wrap;\n",
              "      gap: 12px;\n",
              "    }\n",
              "\n",
              "    .colab-df-convert {\n",
              "      background-color: #E8F0FE;\n",
              "      border: none;\n",
              "      border-radius: 50%;\n",
              "      cursor: pointer;\n",
              "      display: none;\n",
              "      fill: #1967D2;\n",
              "      height: 32px;\n",
              "      padding: 0 0 0 0;\n",
              "      width: 32px;\n",
              "    }\n",
              "\n",
              "    .colab-df-convert:hover {\n",
              "      background-color: #E2EBFA;\n",
              "      box-shadow: 0px 1px 2px rgba(60, 64, 67, 0.3), 0px 1px 3px 1px rgba(60, 64, 67, 0.15);\n",
              "      fill: #174EA6;\n",
              "    }\n",
              "\n",
              "    [theme=dark] .colab-df-convert {\n",
              "      background-color: #3B4455;\n",
              "      fill: #D2E3FC;\n",
              "    }\n",
              "\n",
              "    [theme=dark] .colab-df-convert:hover {\n",
              "      background-color: #434B5C;\n",
              "      box-shadow: 0px 1px 3px 1px rgba(0, 0, 0, 0.15);\n",
              "      filter: drop-shadow(0px 1px 2px rgba(0, 0, 0, 0.3));\n",
              "      fill: #FFFFFF;\n",
              "    }\n",
              "  </style>\n",
              "\n",
              "      <script>\n",
              "        const buttonEl =\n",
              "          document.querySelector('#df-b7267972-e6fe-4d56-92d1-810572187108 button.colab-df-convert');\n",
              "        buttonEl.style.display =\n",
              "          google.colab.kernel.accessAllowed ? 'block' : 'none';\n",
              "\n",
              "        async function convertToInteractive(key) {\n",
              "          const element = document.querySelector('#df-b7267972-e6fe-4d56-92d1-810572187108');\n",
              "          const dataTable =\n",
              "            await google.colab.kernel.invokeFunction('convertToInteractive',\n",
              "                                                     [key], {});\n",
              "          if (!dataTable) return;\n",
              "\n",
              "          const docLinkHtml = 'Like what you see? Visit the ' +\n",
              "            '<a target=\"_blank\" href=https://colab.research.google.com/notebooks/data_table.ipynb>data table notebook</a>'\n",
              "            + ' to learn more about interactive tables.';\n",
              "          element.innerHTML = '';\n",
              "          dataTable['output_type'] = 'display_data';\n",
              "          await google.colab.output.renderOutput(dataTable, element);\n",
              "          const docLink = document.createElement('div');\n",
              "          docLink.innerHTML = docLinkHtml;\n",
              "          element.appendChild(docLink);\n",
              "        }\n",
              "      </script>\n",
              "    </div>\n",
              "  </div>\n",
              "  "
            ]
          },
          "metadata": {},
          "execution_count": 8
        }
      ]
    },
    {
      "cell_type": "code",
      "source": [
        "#Diviser en features/target  (Entrees/Sortie)\n",
        "y = dataset['classe']\n",
        "X = dataset[['capteur1', 'capteur4']]"
      ],
      "metadata": {
        "id": "Bzj9sVVdr8YF"
      },
      "execution_count": 16,
      "outputs": []
    },
    {
      "cell_type": "code",
      "source": [
        "#Etre sure que nous avons X (Entree) correspondant aux 2 variables (capteur1 et capteur4)\n",
        "X.head()"
      ],
      "metadata": {
        "colab": {
          "base_uri": "https://localhost:8080/",
          "height": 206
        },
        "id": "s_XBPtCFsZ-9",
        "outputId": "a7cb0ec9-713f-480d-a423-0ae141e7594d"
      },
      "execution_count": 17,
      "outputs": [
        {
          "output_type": "execute_result",
          "data": {
            "text/plain": [
              "   capteur1  capteur4\n",
              "0 -2.873072 -2.960322\n",
              "1 -2.822573 -2.958599\n",
              "2 -2.748764 -2.630254\n",
              "3 -2.498566 -2.618639\n",
              "4 -2.380298 -2.597404"
            ],
            "text/html": [
              "\n",
              "  <div id=\"df-c3b46fc2-23ef-44aa-af17-8c28a5e6758c\">\n",
              "    <div class=\"colab-df-container\">\n",
              "      <div>\n",
              "<style scoped>\n",
              "    .dataframe tbody tr th:only-of-type {\n",
              "        vertical-align: middle;\n",
              "    }\n",
              "\n",
              "    .dataframe tbody tr th {\n",
              "        vertical-align: top;\n",
              "    }\n",
              "\n",
              "    .dataframe thead th {\n",
              "        text-align: right;\n",
              "    }\n",
              "</style>\n",
              "<table border=\"1\" class=\"dataframe\">\n",
              "  <thead>\n",
              "    <tr style=\"text-align: right;\">\n",
              "      <th></th>\n",
              "      <th>capteur1</th>\n",
              "      <th>capteur4</th>\n",
              "    </tr>\n",
              "  </thead>\n",
              "  <tbody>\n",
              "    <tr>\n",
              "      <th>0</th>\n",
              "      <td>-2.873072</td>\n",
              "      <td>-2.960322</td>\n",
              "    </tr>\n",
              "    <tr>\n",
              "      <th>1</th>\n",
              "      <td>-2.822573</td>\n",
              "      <td>-2.958599</td>\n",
              "    </tr>\n",
              "    <tr>\n",
              "      <th>2</th>\n",
              "      <td>-2.748764</td>\n",
              "      <td>-2.630254</td>\n",
              "    </tr>\n",
              "    <tr>\n",
              "      <th>3</th>\n",
              "      <td>-2.498566</td>\n",
              "      <td>-2.618639</td>\n",
              "    </tr>\n",
              "    <tr>\n",
              "      <th>4</th>\n",
              "      <td>-2.380298</td>\n",
              "      <td>-2.597404</td>\n",
              "    </tr>\n",
              "  </tbody>\n",
              "</table>\n",
              "</div>\n",
              "      <button class=\"colab-df-convert\" onclick=\"convertToInteractive('df-c3b46fc2-23ef-44aa-af17-8c28a5e6758c')\"\n",
              "              title=\"Convert this dataframe to an interactive table.\"\n",
              "              style=\"display:none;\">\n",
              "        \n",
              "  <svg xmlns=\"http://www.w3.org/2000/svg\" height=\"24px\"viewBox=\"0 0 24 24\"\n",
              "       width=\"24px\">\n",
              "    <path d=\"M0 0h24v24H0V0z\" fill=\"none\"/>\n",
              "    <path d=\"M18.56 5.44l.94 2.06.94-2.06 2.06-.94-2.06-.94-.94-2.06-.94 2.06-2.06.94zm-11 1L8.5 8.5l.94-2.06 2.06-.94-2.06-.94L8.5 2.5l-.94 2.06-2.06.94zm10 10l.94 2.06.94-2.06 2.06-.94-2.06-.94-.94-2.06-.94 2.06-2.06.94z\"/><path d=\"M17.41 7.96l-1.37-1.37c-.4-.4-.92-.59-1.43-.59-.52 0-1.04.2-1.43.59L10.3 9.45l-7.72 7.72c-.78.78-.78 2.05 0 2.83L4 21.41c.39.39.9.59 1.41.59.51 0 1.02-.2 1.41-.59l7.78-7.78 2.81-2.81c.8-.78.8-2.07 0-2.86zM5.41 20L4 18.59l7.72-7.72 1.47 1.35L5.41 20z\"/>\n",
              "  </svg>\n",
              "      </button>\n",
              "      \n",
              "  <style>\n",
              "    .colab-df-container {\n",
              "      display:flex;\n",
              "      flex-wrap:wrap;\n",
              "      gap: 12px;\n",
              "    }\n",
              "\n",
              "    .colab-df-convert {\n",
              "      background-color: #E8F0FE;\n",
              "      border: none;\n",
              "      border-radius: 50%;\n",
              "      cursor: pointer;\n",
              "      display: none;\n",
              "      fill: #1967D2;\n",
              "      height: 32px;\n",
              "      padding: 0 0 0 0;\n",
              "      width: 32px;\n",
              "    }\n",
              "\n",
              "    .colab-df-convert:hover {\n",
              "      background-color: #E2EBFA;\n",
              "      box-shadow: 0px 1px 2px rgba(60, 64, 67, 0.3), 0px 1px 3px 1px rgba(60, 64, 67, 0.15);\n",
              "      fill: #174EA6;\n",
              "    }\n",
              "\n",
              "    [theme=dark] .colab-df-convert {\n",
              "      background-color: #3B4455;\n",
              "      fill: #D2E3FC;\n",
              "    }\n",
              "\n",
              "    [theme=dark] .colab-df-convert:hover {\n",
              "      background-color: #434B5C;\n",
              "      box-shadow: 0px 1px 3px 1px rgba(0, 0, 0, 0.15);\n",
              "      filter: drop-shadow(0px 1px 2px rgba(0, 0, 0, 0.3));\n",
              "      fill: #FFFFFF;\n",
              "    }\n",
              "  </style>\n",
              "\n",
              "      <script>\n",
              "        const buttonEl =\n",
              "          document.querySelector('#df-c3b46fc2-23ef-44aa-af17-8c28a5e6758c button.colab-df-convert');\n",
              "        buttonEl.style.display =\n",
              "          google.colab.kernel.accessAllowed ? 'block' : 'none';\n",
              "\n",
              "        async function convertToInteractive(key) {\n",
              "          const element = document.querySelector('#df-c3b46fc2-23ef-44aa-af17-8c28a5e6758c');\n",
              "          const dataTable =\n",
              "            await google.colab.kernel.invokeFunction('convertToInteractive',\n",
              "                                                     [key], {});\n",
              "          if (!dataTable) return;\n",
              "\n",
              "          const docLinkHtml = 'Like what you see? Visit the ' +\n",
              "            '<a target=\"_blank\" href=https://colab.research.google.com/notebooks/data_table.ipynb>data table notebook</a>'\n",
              "            + ' to learn more about interactive tables.';\n",
              "          element.innerHTML = '';\n",
              "          dataTable['output_type'] = 'display_data';\n",
              "          await google.colab.output.renderOutput(dataTable, element);\n",
              "          const docLink = document.createElement('div');\n",
              "          docLink.innerHTML = docLinkHtml;\n",
              "          element.appendChild(docLink);\n",
              "        }\n",
              "      </script>\n",
              "    </div>\n",
              "  </div>\n",
              "  "
            ]
          },
          "metadata": {},
          "execution_count": 17
        }
      ]
    },
    {
      "cell_type": "code",
      "source": [
        "#On voit que nous avons beaucoup plus de 1(non saine) que de 0(saine)\n",
        "dataset.classe.value_counts().plot(kind='bar')"
      ],
      "metadata": {
        "colab": {
          "base_uri": "https://localhost:8080/",
          "height": 279
        },
        "id": "-w-KJqbT2MBm",
        "outputId": "551a1cc5-a0ea-49ac-9d2e-6fc80a8fd028"
      },
      "execution_count": 65,
      "outputs": [
        {
          "output_type": "execute_result",
          "data": {
            "text/plain": [
              "<matplotlib.axes._subplots.AxesSubplot at 0x7f5673621bd0>"
            ]
          },
          "metadata": {},
          "execution_count": 65
        },
        {
          "output_type": "display_data",
          "data": {
            "text/plain": [
              "<Figure size 432x288 with 1 Axes>"
            ],
            "image/png": "[encoded data removed]"
          },
          "metadata": {
            "needs_background": "light"
          }
        }
      ]
    },
    {
      "cell_type": "markdown",
      "source": [
        "# Neural Nets avec Sklearn"
      ],
      "metadata": {
        "id": "NN2K1Mh4wFM_"
      }
    },
    {
      "cell_type": "code",
      "source": [
        "#Diviser notre dataset en train/test avec un pourcentage 0.66/0.33 pour chacun\n",
        "X_train, X_test, y_train, y_test = train_test_split(X, y, test_size=0.33, random_state=42)"
      ],
      "metadata": {
        "id": "XktuBHKss1fa"
      },
      "execution_count": 19,
      "outputs": []
    },
    {
      "cell_type": "code",
      "source": [
        "#Creer un reseau de neuronnes avec sklearn, avec un nombre diterations = 100\n",
        "rn_1 = MLPClassifier(random_state=1, max_iter=100).fit(X_train, y_train)"
      ],
      "metadata": {
        "id": "McaryhVZs5nU"
      },
      "execution_count": 43,
      "outputs": []
    },
    {
      "cell_type": "code",
      "source": [
        "#Calculer l'accuracy(precision) de notre modele, calculer la performance du modele\n",
        "rn_1.score(X_test, y_test)"
      ],
      "metadata": {
        "colab": {
          "base_uri": "https://localhost:8080/"
        },
        "id": "fDSdK5B9v6PN",
        "outputId": "823248c4-c01f-498c-fd2c-eab361bbcaa9"
      },
      "execution_count": 44,
      "outputs": [
        {
          "output_type": "execute_result",
          "data": {
            "text/plain": [
              "0.7890909090909091"
            ]
          },
          "metadata": {},
          "execution_count": 44
        }
      ]
    },
    {
      "cell_type": "markdown",
      "source": [
        "Nour remarquons que nous avons une precison de 78%, ce qui est bien mais qui peut etre ameliore, donc on va essayer de diviser notre dataset avec un pourcentage 75/25"
      ],
      "metadata": {
        "id": "9n7abC4xwNqb"
      }
    },
    {
      "cell_type": "code",
      "source": [
        "#On refait les memes etapes mais cette fois avec test_size=0.25\n",
        "X_train, X_test, y_train, y_test = train_test_split(X, y, test_size=0.25, random_state=42)\n",
        "rn_2 = MLPClassifier(random_state=1, max_iter=100).fit(X_train, y_train)\n",
        "rn_2.score(X_test, y_test)"
      ],
      "metadata": {
        "colab": {
          "base_uri": "https://localhost:8080/"
        },
        "id": "l-_Jg7Bfwbz6",
        "outputId": "9b6a7ad0-db29-4fa7-8496-e11c1f03ed0f"
      },
      "execution_count": 47,
      "outputs": [
        {
          "output_type": "execute_result",
          "data": {
            "text/plain": [
              "0.792"
            ]
          },
          "metadata": {},
          "execution_count": 47
        }
      ]
    },
    {
      "cell_type": "markdown",
      "source": [
        "Nour remarquons que nous avons une precison de 79%, ce qui est mieux que celle d'avant mais qui peut etre ameliore, donc on va essayer de diviser notre dataset avec un pourcentage 80/20"
      ],
      "metadata": {
        "id": "_gsCrZJdw17Z"
      }
    },
    {
      "cell_type": "code",
      "source": [
        "#On refait les memes etapes mais cette fois avec test_size=0.25\n",
        "X_train, X_test, y_train, y_test = train_test_split(X, y, test_size=0.20, random_state=42)\n",
        "rn_3 = MLPClassifier(random_state=1, max_iter=100).fit(X_train, y_train)\n",
        "rn_3.score(X_test, y_test)"
      ],
      "metadata": {
        "colab": {
          "base_uri": "https://localhost:8080/"
        },
        "id": "Gy5FnXtrw5z1",
        "outputId": "d9e4fe71-ee63-45ef-875a-e5ea25cb526c"
      },
      "execution_count": 48,
      "outputs": [
        {
          "output_type": "execute_result",
          "data": {
            "text/plain": [
              "0.8"
            ]
          },
          "metadata": {},
          "execution_count": 48
        }
      ]
    },
    {
      "cell_type": "markdown",
      "source": [
        "Nous avons atteint une precision de 80% qui est plutot bien"
      ],
      "metadata": {
        "id": "qKimMbZZxCg9"
      }
    },
    {
      "cell_type": "markdown",
      "source": [
        "# Neural Nets avec Tensorflow"
      ],
      "metadata": {
        "id": "6kRl14aswJoc"
      }
    },
    {
      "cell_type": "code",
      "source": [
        "#On commence par creer un modele sequentiel\n",
        "model = tf.keras.Sequential()\n",
        "\n",
        "#On ajoute les couche une a une\n",
        "\n",
        "model.add(tf.keras.layers.Dense(\n",
        "    3, #La couche cache a 3 neurones\n",
        "    input_dim=2, #2 correspond au nombre d'entree qui est dans notre cas capteur1 et capteur4\n",
        "    activation='relu' #Fonction d'activation relu \n",
        "    ))\n",
        "\n",
        "#On ajoute la derniere couche (la sortie)\n",
        "model.add(tf.keras.layers.Dense(\n",
        "    1, #Nous avons un neurone correspondant a la sortie car nous avons une classification binaire 0/1\n",
        "    activation='sigmoid' # Sigmoid pour les classificatins binaires\n",
        "))"
      ],
      "metadata": {
        "id": "JdIqdgtYtR1a"
      },
      "execution_count": 37,
      "outputs": []
    },
    {
      "cell_type": "code",
      "source": [
        "#Maintenant que nous avons creer notre modele, nous devons le compiler\n",
        "model.compile(\n",
        "    loss='mean_squared_error', #On choisi une fonction d'erreur\n",
        "    optimizer='adam', #On choisi notre optimisateur\n",
        "    metrics=['binary_accuracy'] #Metrique de classification\n",
        ")"
      ],
      "metadata": {
        "id": "zFZ3ouHYuBEl"
      },
      "execution_count": 38,
      "outputs": []
    },
    {
      "cell_type": "code",
      "source": [
        "model.fit(\n",
        "    X, #Les entrees\n",
        "    y, #La sortie\n",
        "    epochs=10, #Nobre d'iterations\n",
        "    verbose=1 #Detais lors de l'entrainement\n",
        ")"
      ],
      "metadata": {
        "colab": {
          "base_uri": "https://localhost:8080/"
        },
        "id": "WXSKWNEwuHw-",
        "outputId": "70605f74-ec6f-4660-ce51-2c20d8ea1bef"
      },
      "execution_count": 39,
      "outputs": [
        {
          "output_type": "stream",
          "name": "stdout",
          "text": [
            "Epoch 1/10\n",
            "79/79 [==============================] - 0s 1ms/step - loss: 0.3285 - binary_accuracy: 0.4584\n",
            "Epoch 2/10\n",
            "79/79 [==============================] - 0s 1ms/step - loss: 0.2906 - binary_accuracy: 0.5472\n",
            "Epoch 3/10\n",
            "79/79 [==============================] - 0s 1ms/step - loss: 0.2540 - binary_accuracy: 0.6212\n",
            "Epoch 4/10\n",
            "79/79 [==============================] - 0s 1ms/step - loss: 0.2210 - binary_accuracy: 0.7584\n",
            "Epoch 5/10\n",
            "79/79 [==============================] - 0s 1ms/step - loss: 0.2004 - binary_accuracy: 0.8000\n",
            "Epoch 6/10\n",
            "79/79 [==============================] - 0s 1ms/step - loss: 0.1903 - binary_accuracy: 0.8000\n",
            "Epoch 7/10\n",
            "79/79 [==============================] - 0s 1ms/step - loss: 0.1842 - binary_accuracy: 0.8000\n",
            "Epoch 8/10\n",
            "79/79 [==============================] - 0s 1ms/step - loss: 0.1803 - binary_accuracy: 0.8000\n",
            "Epoch 9/10\n",
            "79/79 [==============================] - 0s 1ms/step - loss: 0.1775 - binary_accuracy: 0.8000\n",
            "Epoch 10/10\n",
            "79/79 [==============================] - 0s 2ms/step - loss: 0.1753 - binary_accuracy: 0.8000\n"
          ]
        },
        {
          "output_type": "execute_result",
          "data": {
            "text/plain": [
              "<keras.callbacks.History at 0x7f5678257b10>"
            ]
          },
          "metadata": {},
          "execution_count": 39
        }
      ]
    },
    {
      "cell_type": "markdown",
      "source": [
        "Nous remarquons que nous avons atteint une limite de 80% de precision comme avant"
      ],
      "metadata": {
        "id": "3NGTml26yR9L"
      }
    },
    {
      "cell_type": "markdown",
      "source": [
        "# Ameliorations ?\n",
        "\n",
        "On peut ameliorer notre modele de differentes facons, soit on essayant plusieurs parametres(Nombre de couche/neurones, les focntions, nombre d'iterations etc), ou en augmentant notre base de donneees (de telle sorte a avoir 50/50 de chaque classe (0/1)"
      ],
      "metadata": {
        "id": "nD3ZwHbI1c7N"
      }
    }
  ]
}